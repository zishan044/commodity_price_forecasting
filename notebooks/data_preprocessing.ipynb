{
 "cells": [
  {
   "cell_type": "code",
   "execution_count": 26,
   "id": "c1dca305",
   "metadata": {},
   "outputs": [
    {
     "name": "stdout",
     "output_type": "stream",
     "text": [
      "The kedro extension is already loaded. To reload it, use:\n",
      "  %reload_ext kedro\n"
     ]
    }
   ],
   "source": [
    "%load_ext kedro"
   ]
  },
  {
   "cell_type": "code",
   "execution_count": 27,
   "id": "90b90803",
   "metadata": {},
   "outputs": [
    {
     "data": {
      "text/html": [
       "<pre style=\"white-space:pre;overflow-x:auto;line-height:normal;font-family:Menlo,'DejaVu Sans Mono',consolas,'Courier New',monospace\"><span style=\"color: #7fbfbf; text-decoration-color: #7fbfbf\">[10/14/25 22:51:47] </span><span style=\"color: #000080; text-decoration-color: #000080\">INFO    </span> Loading data from <span style=\"color: #ff8700; text-decoration-color: #ff8700\">raw_data</span> <span style=\"font-weight: bold\">(</span>ParquetDataset<span style=\"font-weight: bold\">)</span><span style=\"color: #808000; text-decoration-color: #808000\">...</span>                    <a href=\"file:///home/zishan/anaconda3/envs/commodity_price_forecasting/lib/python3.11/site-packages/kedro/io/data_catalog.py\" target=\"_blank\"><span style=\"color: #7f7f7f; text-decoration-color: #7f7f7f\">data_catalog.py</span></a><span style=\"color: #7f7f7f; text-decoration-color: #7f7f7f\">:</span><a href=\"file:///home/zishan/anaconda3/envs/commodity_price_forecasting/lib/python3.11/site-packages/kedro/io/data_catalog.py#1046\" target=\"_blank\"><span style=\"color: #7f7f7f; text-decoration-color: #7f7f7f\">1046</span></a>\n",
       "</pre>\n"
      ],
      "text/plain": [
       "\u001b[2;36m[10/14/25 22:51:47]\u001b[0m\u001b[2;36m \u001b[0m\u001b[34mINFO    \u001b[0m Loading data from \u001b[38;5;208mraw_data\u001b[0m \u001b[1m(\u001b[0mParquetDataset\u001b[1m)\u001b[0m\u001b[33m...\u001b[0m                    \u001b]8;id=952228;file:///home/zishan/anaconda3/envs/commodity_price_forecasting/lib/python3.11/site-packages/kedro/io/data_catalog.py\u001b\\\u001b[2mdata_catalog.py\u001b[0m\u001b]8;;\u001b\\\u001b[2m:\u001b[0m\u001b]8;id=347625;file:///home/zishan/anaconda3/envs/commodity_price_forecasting/lib/python3.11/site-packages/kedro/io/data_catalog.py#1046\u001b\\\u001b[2m1046\u001b[0m\u001b]8;;\u001b\\\n"
      ]
     },
     "metadata": {},
     "output_type": "display_data"
    },
    {
     "name": "stdout",
     "output_type": "stream",
     "text": [
      "<class 'pandas.core.frame.DataFrame'>\n",
      "RangeIndex: 55043 entries, 0 to 55042\n",
      "Data columns (total 6 columns):\n",
      " #   Column      Non-Null Count  Dtype \n",
      "---  ------      --------------  ----- \n",
      " 0   date        55043 non-null  object\n",
      " 1   category    55043 non-null  object\n",
      " 2   item        55043 non-null  object\n",
      " 3   unit        55043 non-null  object\n",
      " 4   low_price   55043 non-null  object\n",
      " 5   high_price  55043 non-null  object\n",
      "dtypes: object(6)\n",
      "memory usage: 2.5+ MB\n"
     ]
    }
   ],
   "source": [
    "df = catalog.load('raw_data')\n",
    "df.info()"
   ]
  },
  {
   "cell_type": "code",
   "execution_count": 28,
   "id": "b4113ddb",
   "metadata": {},
   "outputs": [],
   "source": [
    "import pandas as pd"
   ]
  },
  {
   "cell_type": "code",
   "execution_count": 29,
   "id": "15b5373e",
   "metadata": {},
   "outputs": [],
   "source": [
    "df['date'] = pd.to_datetime(df['date'])"
   ]
  },
  {
   "cell_type": "code",
   "execution_count": 30,
   "id": "94eddec2",
   "metadata": {},
   "outputs": [
    {
     "name": "stdout",
     "output_type": "stream",
     "text": [
      "\n",
      "=== CHECKING low_price ===\n",
      "Non-numeric values found in low_price:\n",
      "['বাজারে পাওয়া']\n",
      "Count: 1\n",
      "\n",
      "=== CHECKING high_price ===\n",
      "Non-numeric values found in high_price:\n",
      "['যায়নি']\n",
      "Count: 1\n"
     ]
    }
   ],
   "source": [
    "\n",
    "numeric_cols = ['low_price', 'high_price']\n",
    "\n",
    "for col in numeric_cols:\n",
    "    print(f\"\\n=== CHECKING {col} ===\")\n",
    "    \n",
    "    numeric_series = pd.to_numeric(df[col], errors='coerce')\n",
    "    non_numeric_mask = numeric_series.isna() & df[col].notna()\n",
    "    \n",
    "    if non_numeric_mask.any():\n",
    "        print(f\"Non-numeric values found in {col}:\")\n",
    "        non_numeric_values = df.loc[non_numeric_mask, col].unique()\n",
    "        print(non_numeric_values)\n",
    "        print(f\"Count: {non_numeric_mask.sum()}\")\n",
    "    else:\n",
    "        print(f\"All values in {col} are numeric!\")\n"
   ]
  },
  {
   "cell_type": "code",
   "execution_count": 31,
   "id": "ad5b36a0",
   "metadata": {},
   "outputs": [
    {
     "data": {
      "text/html": [
       "<pre style=\"white-space:pre;overflow-x:auto;line-height:normal;font-family:Menlo,'DejaVu Sans Mono',consolas,'Courier New',monospace\"></pre>\n"
      ],
      "text/plain": []
     },
     "metadata": {},
     "output_type": "display_data"
    },
    {
     "data": {
      "text/plain": [
       "\n",
       "\u001b[1;36m42669\u001b[0m    বাজারে পাওয়া\n",
       "Name: low_price, dtype: object"
      ]
     },
     "execution_count": 31,
     "metadata": {},
     "output_type": "execute_result"
    }
   ],
   "source": [
    "df.loc[df['low_price'] == 'বাজারে পাওয়া', 'low_price']"
   ]
  },
  {
   "cell_type": "code",
   "execution_count": 32,
   "id": "3428ba68",
   "metadata": {},
   "outputs": [
    {
     "data": {
      "text/html": [
       "<pre style=\"white-space:pre;overflow-x:auto;line-height:normal;font-family:Menlo,'DejaVu Sans Mono',consolas,'Courier New',monospace\"></pre>\n"
      ],
      "text/plain": []
     },
     "metadata": {},
     "output_type": "display_data"
    },
    {
     "data": {
      "text/plain": [
       "\n",
       "\u001b[1;36m42669\u001b[0m    যায়নি\n",
       "Name: high_price, dtype: object"
      ]
     },
     "execution_count": 32,
     "metadata": {},
     "output_type": "execute_result"
    }
   ],
   "source": [
    "df.loc[df['high_price'] == 'যায়নি', 'high_price']"
   ]
  },
  {
   "cell_type": "markdown",
   "id": "a5723ed6",
   "metadata": {},
   "source": [
    "**there seems to be one row with non numeric column. possible typo**"
   ]
  },
  {
   "cell_type": "code",
   "execution_count": 33,
   "id": "1d3838a9",
   "metadata": {},
   "outputs": [],
   "source": [
    "df['low_price'] = pd.to_numeric(df['low_price'], errors='coerce')\n",
    "df['high_price'] = pd.to_numeric(df['high_price'], errors='coerce')"
   ]
  },
  {
   "cell_type": "code",
   "execution_count": 34,
   "id": "e7ec12cb",
   "metadata": {},
   "outputs": [
    {
     "data": {
      "text/html": [
       "<pre style=\"white-space:pre;overflow-x:auto;line-height:normal;font-family:Menlo,'DejaVu Sans Mono',consolas,'Courier New',monospace\"></pre>\n"
      ],
      "text/plain": []
     },
     "metadata": {},
     "output_type": "display_data"
    },
    {
     "data": {
      "text/plain": [
       "\n",
       "unit\n",
       "প্রতি কেজি          \u001b[1;36m38330\u001b[0m\n",
       "১ কেজি               \u001b[1;36m4144\u001b[0m\n",
       "প্রতি লিটার          \u001b[1;36m3106\u001b[0m\n",
       "প্রতি কেজি প্যাঃ     \u001b[1;36m2072\u001b[0m\n",
       "প্রতি মেঃটন          \u001b[1;36m2072\u001b[0m\n",
       "৫ লিটার              \u001b[1;36m1502\u001b[0m\n",
       "১ লিটার              \u001b[1;36m1368\u001b[0m\n",
       "প্রতি দিস্তা         \u001b[1;36m1036\u001b[0m\n",
       "প্রতি হালি           \u001b[1;36m1036\u001b[0m\n",
       "\u001b[1;36m2\u001b[0m লিটার               \u001b[1;36m375\u001b[0m\n",
       "\u001b[1;36m50.00\u001b[0m-\u001b[1;36m52.00\u001b[0m             \u001b[1;36m2\u001b[0m\n",
       "Name: count, dtype: int64"
      ]
     },
     "execution_count": 34,
     "metadata": {},
     "output_type": "execute_result"
    }
   ],
   "source": [
    "df['unit'].value_counts()"
   ]
  },
  {
   "cell_type": "code",
   "execution_count": 35,
   "id": "6860563f",
   "metadata": {},
   "outputs": [
    {
     "data": {
      "text/html": [
       "<pre style=\"white-space:pre;overflow-x:auto;line-height:normal;font-family:Menlo,'DejaVu Sans Mono',consolas,'Courier New',monospace\"></pre>\n"
      ],
      "text/plain": []
     },
     "metadata": {},
     "output_type": "display_data"
    },
    {
     "data": {
      "text/html": [
       "<div>\n",
       "<style scoped>\n",
       "    .dataframe tbody tr th:only-of-type {\n",
       "        vertical-align: middle;\n",
       "    }\n",
       "\n",
       "    .dataframe tbody tr th {\n",
       "        vertical-align: top;\n",
       "    }\n",
       "\n",
       "    .dataframe thead th {\n",
       "        text-align: right;\n",
       "    }\n",
       "</style>\n",
       "<table border=\"1\" class=\"dataframe\">\n",
       "  <thead>\n",
       "    <tr style=\"text-align: right;\">\n",
       "      <th></th>\n",
       "      <th>date</th>\n",
       "      <th>category</th>\n",
       "      <th>item</th>\n",
       "      <th>unit</th>\n",
       "      <th>low_price</th>\n",
       "      <th>high_price</th>\n",
       "    </tr>\n",
       "  </thead>\n",
       "  <tbody>\n",
       "    <tr>\n",
       "      <th>5664</th>\n",
       "      <td>2023-11-13</td>\n",
       "      <td>মসলাঃ</td>\n",
       "      <td>তেজপাতা</td>\n",
       "      <td>50.00-52.00</td>\n",
       "      <td>150.0</td>\n",
       "      <td>200.0</td>\n",
       "    </tr>\n",
       "    <tr>\n",
       "      <th>41850</th>\n",
       "      <td>2023-11-15</td>\n",
       "      <td>মসলাঃ</td>\n",
       "      <td>তেজপাতা</td>\n",
       "      <td>50.00-52.00</td>\n",
       "      <td>150.0</td>\n",
       "      <td>200.0</td>\n",
       "    </tr>\n",
       "  </tbody>\n",
       "</table>\n",
       "</div>"
      ],
      "text/plain": [
       "\n",
       "            date category     item         unit  low_price  high_price\n",
       "\u001b[1;36m5664\u001b[0m  \u001b[1;36m2023\u001b[0m-\u001b[1;36m11\u001b[0m-\u001b[1;36m13\u001b[0m    মসলাঃ  তেজপাতা  \u001b[1;36m50.00\u001b[0m-\u001b[1;36m52.00\u001b[0m      \u001b[1;36m150.0\u001b[0m       \u001b[1;36m200.0\u001b[0m\n",
       "\u001b[1;36m41850\u001b[0m \u001b[1;36m2023\u001b[0m-\u001b[1;36m11\u001b[0m-\u001b[1;36m15\u001b[0m    মসলাঃ  তেজপাতা  \u001b[1;36m50.00\u001b[0m-\u001b[1;36m52.00\u001b[0m      \u001b[1;36m150.0\u001b[0m       \u001b[1;36m200.0\u001b[0m"
      ]
     },
     "execution_count": 35,
     "metadata": {},
     "output_type": "execute_result"
    }
   ],
   "source": [
    "df[df['unit'] == '50.00-52.00']"
   ]
  },
  {
   "cell_type": "markdown",
   "id": "09529b07",
   "metadata": {},
   "source": [
    "**some units seem to have been mislabeled. ahve to fill them with proper unit for the item.**"
   ]
  },
  {
   "cell_type": "code",
   "execution_count": 36,
   "id": "00df0624",
   "metadata": {},
   "outputs": [
    {
     "data": {
      "text/html": [
       "<pre style=\"white-space:pre;overflow-x:auto;line-height:normal;font-family:Menlo,'DejaVu Sans Mono',consolas,'Courier New',monospace\"></pre>\n"
      ],
      "text/plain": []
     },
     "metadata": {},
     "output_type": "display_data"
    },
    {
     "data": {
      "text/plain": [
       "\n",
       "\u001b[1;36m36\u001b[0m       প্রতি কেজি\n",
       "\u001b[1;36m91\u001b[0m       প্রতি কেজি\n",
       "\u001b[1;36m146\u001b[0m      প্রতি কেজি\n",
       "\u001b[1;36m198\u001b[0m      প্রতি কেজি\n",
       "\u001b[1;36m255\u001b[0m      প্রতি কেজি\n",
       "            \u001b[33m...\u001b[0m    \n",
       "\u001b[1;36m54811\u001b[0m    প্রতি কেজি\n",
       "\u001b[1;36m54865\u001b[0m    প্রতি কেজি\n",
       "\u001b[1;36m54917\u001b[0m    প্রতি কেজি\n",
       "\u001b[1;36m54971\u001b[0m    প্রতি কেজি\n",
       "\u001b[1;36m55025\u001b[0m    প্রতি কেজি\n",
       "Name: unit, Length: \u001b[1;36m1036\u001b[0m, dtype: object"
      ]
     },
     "execution_count": 36,
     "metadata": {},
     "output_type": "execute_result"
    }
   ],
   "source": [
    "df[df['item'] == 'তেজপাতা']['unit']"
   ]
  },
  {
   "cell_type": "code",
   "execution_count": 37,
   "id": "803bf6fe",
   "metadata": {},
   "outputs": [
    {
     "data": {
      "text/html": [
       "<pre style=\"white-space:pre;overflow-x:auto;line-height:normal;font-family:Menlo,'DejaVu Sans Mono',consolas,'Courier New',monospace\"><span style=\"color: #7fbfbf; text-decoration-color: #7fbfbf\">[10/14/25 22:52:00] </span><span style=\"color: #808000; text-decoration-color: #808000\">WARNING </span> <span style=\"color: #800080; text-decoration-color: #800080\">/tmp/ipykernel_18497/</span><span style=\"color: #ff00ff; text-decoration-color: #ff00ff\">905726389.py</span>:<span style=\"color: #008080; text-decoration-color: #008080; font-weight: bold\">1</span>: SettingWithCopyWarning:           <a href=\"file:///home/zishan/anaconda3/envs/commodity_price_forecasting/lib/python3.11/warnings.py\" target=\"_blank\"><span style=\"color: #7f7f7f; text-decoration-color: #7f7f7f\">warnings.py</span></a><span style=\"color: #7f7f7f; text-decoration-color: #7f7f7f\">:</span><a href=\"file:///home/zishan/anaconda3/envs/commodity_price_forecasting/lib/python3.11/warnings.py#110\" target=\"_blank\"><span style=\"color: #7f7f7f; text-decoration-color: #7f7f7f\">110</span></a>\n",
       "<span style=\"color: #7fbfbf; text-decoration-color: #7fbfbf\">                    </span>         A value is trying to be set on a copy of a slice from a DataFrame.     <span style=\"color: #7f7f7f; text-decoration-color: #7f7f7f\">               </span>\n",
       "<span style=\"color: #7fbfbf; text-decoration-color: #7fbfbf\">                    </span>         Try using .loc = value instead                                         <span style=\"color: #7f7f7f; text-decoration-color: #7f7f7f\">               </span>\n",
       "<span style=\"color: #7fbfbf; text-decoration-color: #7fbfbf\">                    </span>                                                                                <span style=\"color: #7f7f7f; text-decoration-color: #7f7f7f\">               </span>\n",
       "<span style=\"color: #7fbfbf; text-decoration-color: #7fbfbf\">                    </span>         See the caveats in the documentation:                                  <span style=\"color: #7f7f7f; text-decoration-color: #7f7f7f\">               </span>\n",
       "<span style=\"color: #7fbfbf; text-decoration-color: #7fbfbf\">                    </span>         <span style=\"color: #0000ff; text-decoration-color: #0000ff; text-decoration: underline\">https://pandas.pydata.org/pandas-docs/stable/user_guide/indexing.html#</span> <span style=\"color: #7f7f7f; text-decoration-color: #7f7f7f\">               </span>\n",
       "<span style=\"color: #7fbfbf; text-decoration-color: #7fbfbf\">                    </span>         <span style=\"color: #0000ff; text-decoration-color: #0000ff; text-decoration: underline\">returning-a-view-versus-a-copy</span>                                         <span style=\"color: #7f7f7f; text-decoration-color: #7f7f7f\">               </span>\n",
       "<span style=\"color: #7fbfbf; text-decoration-color: #7fbfbf\">                    </span>           df<span style=\"font-weight: bold\">[</span>df<span style=\"font-weight: bold\">[</span><span style=\"color: #008000; text-decoration-color: #008000\">'unit'</span><span style=\"font-weight: bold\">]</span> == <span style=\"color: #008000; text-decoration-color: #008000\">'50.00-52.00'</span><span style=\"font-weight: bold\">][</span><span style=\"color: #008000; text-decoration-color: #008000\">'unit'</span><span style=\"font-weight: bold\">]</span> = <span style=\"color: #008000; text-decoration-color: #008000\">'প্রতি কেজি'</span>                   <span style=\"color: #7f7f7f; text-decoration-color: #7f7f7f\">               </span>\n",
       "<span style=\"color: #7fbfbf; text-decoration-color: #7fbfbf\">                    </span>                                                                                <span style=\"color: #7f7f7f; text-decoration-color: #7f7f7f\">               </span>\n",
       "</pre>\n"
      ],
      "text/plain": [
       "\u001b[2;36m[10/14/25 22:52:00]\u001b[0m\u001b[2;36m \u001b[0m\u001b[33mWARNING \u001b[0m \u001b[35m/tmp/ipykernel_18497/\u001b[0m\u001b[95m905726389.py\u001b[0m:\u001b[1;36m1\u001b[0m: SettingWithCopyWarning:           \u001b]8;id=397369;file:///home/zishan/anaconda3/envs/commodity_price_forecasting/lib/python3.11/warnings.py\u001b\\\u001b[2mwarnings.py\u001b[0m\u001b]8;;\u001b\\\u001b[2m:\u001b[0m\u001b]8;id=45584;file:///home/zishan/anaconda3/envs/commodity_price_forecasting/lib/python3.11/warnings.py#110\u001b\\\u001b[2m110\u001b[0m\u001b]8;;\u001b\\\n",
       "\u001b[2;36m                    \u001b[0m         A value is trying to be set on a copy of a slice from a DataFrame.     \u001b[2m               \u001b[0m\n",
       "\u001b[2;36m                    \u001b[0m         Try using .loc = value instead                                         \u001b[2m               \u001b[0m\n",
       "\u001b[2;36m                    \u001b[0m                                                                                \u001b[2m               \u001b[0m\n",
       "\u001b[2;36m                    \u001b[0m         See the caveats in the documentation:                                  \u001b[2m               \u001b[0m\n",
       "\u001b[2;36m                    \u001b[0m         \u001b[4;94mhttps://pandas.pydata.org/pandas-docs/stable/user_guide/indexing.html#\u001b[0m \u001b[2m               \u001b[0m\n",
       "\u001b[2;36m                    \u001b[0m         \u001b[4;94mreturning-a-view-versus-a-copy\u001b[0m                                         \u001b[2m               \u001b[0m\n",
       "\u001b[2;36m                    \u001b[0m           df\u001b[1m[\u001b[0mdf\u001b[1m[\u001b[0m\u001b[32m'unit'\u001b[0m\u001b[1m]\u001b[0m == \u001b[32m'50.00-52.00'\u001b[0m\u001b[1m]\u001b[0m\u001b[1m[\u001b[0m\u001b[32m'unit'\u001b[0m\u001b[1m]\u001b[0m = \u001b[32m'প্রতি কেজি'\u001b[0m                   \u001b[2m               \u001b[0m\n",
       "\u001b[2;36m                    \u001b[0m                                                                                \u001b[2m               \u001b[0m\n"
      ]
     },
     "metadata": {},
     "output_type": "display_data"
    }
   ],
   "source": [
    "df[df['unit'] == '50.00-52.00']['unit'] = 'প্রতি কেজি'"
   ]
  },
  {
   "cell_type": "code",
   "execution_count": null,
   "id": "9a8cb752",
   "metadata": {},
   "outputs": [],
   "source": [
    "unit_mapping = {\n",
    "    'প্রতি কেজি': '1 KG',\n",
    "    '১ কেজি': '1 KG', \n",
    "    'প্রতি লিটার': '1 Liter',\n",
    "    'প্রতি কেজি প্যাঃ': '1 KG',\n",
    "    'প্রতি মেঃটন': '1 Metric Tonne',\n",
    "    '৫ লিটার': '5 Liter',\n",
    "    '১ লিটার': '1 Liter',\n",
    "    'প্রতি দিস্তা': '25 Pieces',\n",
    "    'প্রতি হালি': '4 Pieces',\n",
    "    '2 লিটার': '2 Liter'\n",
    "}\n",
    "\n",
    "df['unit'] = df['unit'].map(unit_mapping)"
   ]
  }
 ],
 "metadata": {
  "kernelspec": {
   "display_name": "commodity_price_forecasting",
   "language": "python",
   "name": "python3"
  },
  "language_info": {
   "codemirror_mode": {
    "name": "ipython",
    "version": 3
   },
   "file_extension": ".py",
   "mimetype": "text/x-python",
   "name": "python",
   "nbconvert_exporter": "python",
   "pygments_lexer": "ipython3",
   "version": "3.11.13"
  }
 },
 "nbformat": 4,
 "nbformat_minor": 5
}
