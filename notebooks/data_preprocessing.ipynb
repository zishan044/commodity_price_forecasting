{
 "cells": [
  {
   "cell_type": "code",
   "execution_count": 17,
   "id": "c1dca305",
   "metadata": {},
   "outputs": [
    {
     "name": "stdout",
     "output_type": "stream",
     "text": [
      "The kedro extension is already loaded. To reload it, use:\n",
      "  %reload_ext kedro\n"
     ]
    }
   ],
   "source": [
    "%load_ext kedro"
   ]
  },
  {
   "cell_type": "code",
   "execution_count": 18,
   "id": "90b90803",
   "metadata": {},
   "outputs": [
    {
     "data": {
      "text/html": [
       "<pre style=\"white-space:pre;overflow-x:auto;line-height:normal;font-family:Menlo,'DejaVu Sans Mono',consolas,'Courier New',monospace\"><span style=\"color: #7fbfbf; text-decoration-color: #7fbfbf\">[10/16/25 20:16:02] </span><span style=\"color: #000080; text-decoration-color: #000080\">INFO    </span> Loading data from <span style=\"color: #ff8700; text-decoration-color: #ff8700\">raw_data</span> <span style=\"font-weight: bold\">(</span>ParquetDataset<span style=\"font-weight: bold\">)</span><span style=\"color: #808000; text-decoration-color: #808000\">...</span>                    <a href=\"file:///home/zishan/anaconda3/envs/commodity_price_forecasting/lib/python3.11/site-packages/kedro/io/data_catalog.py\" target=\"_blank\"><span style=\"color: #7f7f7f; text-decoration-color: #7f7f7f\">data_catalog.py</span></a><span style=\"color: #7f7f7f; text-decoration-color: #7f7f7f\">:</span><a href=\"file:///home/zishan/anaconda3/envs/commodity_price_forecasting/lib/python3.11/site-packages/kedro/io/data_catalog.py#1046\" target=\"_blank\"><span style=\"color: #7f7f7f; text-decoration-color: #7f7f7f\">1046</span></a>\n",
       "</pre>\n"
      ],
      "text/plain": [
       "\u001b[2;36m[10/16/25 20:16:02]\u001b[0m\u001b[2;36m \u001b[0m\u001b[34mINFO    \u001b[0m Loading data from \u001b[38;5;208mraw_data\u001b[0m \u001b[1m(\u001b[0mParquetDataset\u001b[1m)\u001b[0m\u001b[33m...\u001b[0m                    \u001b]8;id=685040;file:///home/zishan/anaconda3/envs/commodity_price_forecasting/lib/python3.11/site-packages/kedro/io/data_catalog.py\u001b\\\u001b[2mdata_catalog.py\u001b[0m\u001b]8;;\u001b\\\u001b[2m:\u001b[0m\u001b]8;id=436863;file:///home/zishan/anaconda3/envs/commodity_price_forecasting/lib/python3.11/site-packages/kedro/io/data_catalog.py#1046\u001b\\\u001b[2m1046\u001b[0m\u001b]8;;\u001b\\\n"
      ]
     },
     "metadata": {},
     "output_type": "display_data"
    },
    {
     "name": "stdout",
     "output_type": "stream",
     "text": [
      "<class 'pandas.core.frame.DataFrame'>\n",
      "RangeIndex: 55043 entries, 0 to 55042\n",
      "Data columns (total 6 columns):\n",
      " #   Column      Non-Null Count  Dtype \n",
      "---  ------      --------------  ----- \n",
      " 0   date        55043 non-null  object\n",
      " 1   category    55043 non-null  object\n",
      " 2   item        55043 non-null  object\n",
      " 3   unit        55043 non-null  object\n",
      " 4   low_price   55043 non-null  object\n",
      " 5   high_price  55043 non-null  object\n",
      "dtypes: object(6)\n",
      "memory usage: 2.5+ MB\n"
     ]
    }
   ],
   "source": [
    "df = catalog.load('raw_data')\n",
    "df.info()"
   ]
  },
  {
   "cell_type": "code",
   "execution_count": 19,
   "id": "b4113ddb",
   "metadata": {},
   "outputs": [],
   "source": [
    "import pandas as pd"
   ]
  },
  {
   "cell_type": "markdown",
   "id": "66cee09c",
   "metadata": {},
   "source": [
    "**There seems to be duplicated data from 7 days.**"
   ]
  },
  {
   "cell_type": "code",
   "execution_count": 118,
   "id": "c81931fc",
   "metadata": {},
   "outputs": [],
   "source": [
    "df.drop_duplicates(subset=['date', 'unit', 'item'], inplace=True)"
   ]
  },
  {
   "cell_type": "code",
   "execution_count": 119,
   "id": "5339f2a6",
   "metadata": {},
   "outputs": [
    {
     "data": {
      "text/html": [
       "<pre style=\"white-space:pre;overflow-x:auto;line-height:normal;font-family:Menlo,'DejaVu Sans Mono',consolas,'Courier New',monospace\"></pre>\n"
      ],
      "text/plain": []
     },
     "metadata": {},
     "output_type": "display_data"
    },
    {
     "data": {
      "text/html": [
       "<div>\n",
       "<style scoped>\n",
       "    .dataframe tbody tr th:only-of-type {\n",
       "        vertical-align: middle;\n",
       "    }\n",
       "\n",
       "    .dataframe tbody tr th {\n",
       "        vertical-align: top;\n",
       "    }\n",
       "\n",
       "    .dataframe thead th {\n",
       "        text-align: right;\n",
       "    }\n",
       "</style>\n",
       "<table border=\"1\" class=\"dataframe\">\n",
       "  <thead>\n",
       "    <tr style=\"text-align: right;\">\n",
       "      <th></th>\n",
       "      <th>date</th>\n",
       "      <th>category</th>\n",
       "      <th>item</th>\n",
       "      <th>unit</th>\n",
       "      <th>low_price</th>\n",
       "      <th>high_price</th>\n",
       "    </tr>\n",
       "  </thead>\n",
       "  <tbody>\n",
       "    <tr>\n",
       "      <th>0</th>\n",
       "      <td>2025-08-01</td>\n",
       "      <td>চাল</td>\n",
       "      <td>চাল সরু (নাজির/মিনিকেট)</td>\n",
       "      <td>প্রতি কেজি</td>\n",
       "      <td>75</td>\n",
       "      <td>85</td>\n",
       "    </tr>\n",
       "    <tr>\n",
       "      <th>1</th>\n",
       "      <td>2025-08-01</td>\n",
       "      <td>চাল</td>\n",
       "      <td>চাল (মাঝারী)পাইজাম/আটাশ</td>\n",
       "      <td>প্রতি কেজি</td>\n",
       "      <td>60</td>\n",
       "      <td>75</td>\n",
       "    </tr>\n",
       "    <tr>\n",
       "      <th>2</th>\n",
       "      <td>2025-08-01</td>\n",
       "      <td>চাল</td>\n",
       "      <td>চাল (মোটা)/স্বর্ণা/চায়না ইরি</td>\n",
       "      <td>প্রতি কেজি</td>\n",
       "      <td>55</td>\n",
       "      <td>60</td>\n",
       "    </tr>\n",
       "    <tr>\n",
       "      <th>3</th>\n",
       "      <td>2025-08-01</td>\n",
       "      <td>আটা/ময়দা</td>\n",
       "      <td>আটা সাদা (খোলা)</td>\n",
       "      <td>প্রতি কেজি</td>\n",
       "      <td>40</td>\n",
       "      <td>45</td>\n",
       "    </tr>\n",
       "    <tr>\n",
       "      <th>4</th>\n",
       "      <td>2025-08-01</td>\n",
       "      <td>আটা/ময়দা</td>\n",
       "      <td>আটা (প্যাকেট)</td>\n",
       "      <td>প্রতি কেজি প্যাঃ</td>\n",
       "      <td>50</td>\n",
       "      <td>55</td>\n",
       "    </tr>\n",
       "    <tr>\n",
       "      <th>...</th>\n",
       "      <td>...</td>\n",
       "      <td>...</td>\n",
       "      <td>...</td>\n",
       "      <td>...</td>\n",
       "      <td>...</td>\n",
       "      <td>...</td>\n",
       "    </tr>\n",
       "    <tr>\n",
       "      <th>55038</th>\n",
       "      <td>2024-07-08</td>\n",
       "      <td>বিবিধঃ</td>\n",
       "      <td>লবণ(প্যাঃ)আয়োডিনযুক্ত(মানভেদে)</td>\n",
       "      <td>প্রতি কেজি</td>\n",
       "      <td>38</td>\n",
       "      <td>42</td>\n",
       "    </tr>\n",
       "    <tr>\n",
       "      <th>55039</th>\n",
       "      <td>2024-07-08</td>\n",
       "      <td>বিবিধঃ</td>\n",
       "      <td>ডিম (ফার্ম)</td>\n",
       "      <td>প্রতি হালি</td>\n",
       "      <td>45</td>\n",
       "      <td>50</td>\n",
       "    </tr>\n",
       "    <tr>\n",
       "      <th>55040</th>\n",
       "      <td>2024-07-08</td>\n",
       "      <td>বিবিধঃ</td>\n",
       "      <td>লেখার কাগজ(সাদা)</td>\n",
       "      <td>প্রতি দিস্তা</td>\n",
       "      <td>30</td>\n",
       "      <td>35</td>\n",
       "    </tr>\n",
       "    <tr>\n",
       "      <th>55041</th>\n",
       "      <td>2024-07-08</td>\n",
       "      <td>বিবিধঃ</td>\n",
       "      <td>এম,এস রড (৬০ গ্রেড)</td>\n",
       "      <td>প্রতি মেঃটন</td>\n",
       "      <td>88500</td>\n",
       "      <td>89500</td>\n",
       "    </tr>\n",
       "    <tr>\n",
       "      <th>55042</th>\n",
       "      <td>2024-07-08</td>\n",
       "      <td>বিবিধঃ</td>\n",
       "      <td>এম,এস রড( ৪০ গ্রেড)</td>\n",
       "      <td>প্রতি মেঃটন</td>\n",
       "      <td>85500</td>\n",
       "      <td>87500</td>\n",
       "    </tr>\n",
       "  </tbody>\n",
       "</table>\n",
       "<p>54665 rows × 6 columns</p>\n",
       "</div>"
      ],
      "text/plain": [
       "\n",
       "             date  category                            item              unit  \\\n",
       "\u001b[1;36m0\u001b[0m      \u001b[1;36m2025\u001b[0m-\u001b[1;36m08\u001b[0m-\u001b[1;36m01\u001b[0m       চাল         চাল সরু \u001b[1m(\u001b[0mনাজির/মিনিকেট\u001b[1m)\u001b[0m        প্রতি কেজি   \n",
       "\u001b[1;36m1\u001b[0m      \u001b[1;36m2025\u001b[0m-\u001b[1;36m08\u001b[0m-\u001b[1;36m01\u001b[0m       চাল         চাল \u001b[1m(\u001b[0mমাঝারী\u001b[1m)\u001b[0mপাইজাম/আটাশ        প্রতি কেজি   \n",
       "\u001b[1;36m2\u001b[0m      \u001b[1;36m2025\u001b[0m-\u001b[1;36m08\u001b[0m-\u001b[1;36m01\u001b[0m       চাল    চাল \u001b[1m(\u001b[0mমোটা\u001b[1m)\u001b[0m\u001b[35m/\u001b[0m\u001b[95mস\u001b[0m্বর্ণা\u001b[35m/\u001b[0m\u001b[95mচ\u001b[0mায়না ইরি        প্রতি কেজি   \n",
       "\u001b[1;36m3\u001b[0m      \u001b[1;36m2025\u001b[0m-\u001b[1;36m08\u001b[0m-\u001b[1;36m01\u001b[0m  আটা\u001b[35m/\u001b[0m\u001b[95mময়দ\u001b[0mা                 আটা সাদা \u001b[1m(\u001b[0mখোলা\u001b[1m)\u001b[0m        প্রতি কেজি   \n",
       "\u001b[1;36m4\u001b[0m      \u001b[1;36m2025\u001b[0m-\u001b[1;36m08\u001b[0m-\u001b[1;36m01\u001b[0m  আটা\u001b[35m/\u001b[0m\u001b[95mময়দ\u001b[0mা                   আটা \u001b[1m(\u001b[0mপ্যাকেট\u001b[1m)\u001b[0m  প্রতি কেজি প্যাঃ   \n",
       "\u001b[33m...\u001b[0m           \u001b[33m...\u001b[0m       \u001b[33m...\u001b[0m                             \u001b[33m...\u001b[0m               \u001b[33m...\u001b[0m   \n",
       "\u001b[1;36m55038\u001b[0m  \u001b[1;36m2024\u001b[0m-\u001b[1;36m07\u001b[0m-\u001b[1;36m08\u001b[0m    বিবিধঃ  \u001b[1;35mলবণ\u001b[0m\u001b[1m(\u001b[0mপ্যাঃ\u001b[1m)\u001b[0mআয়োডিনযুক্\u001b[1;35mত\u001b[0m\u001b[1m(\u001b[0mমানভেদে\u001b[1m)\u001b[0m        প্রতি কেজি   \n",
       "\u001b[1;36m55039\u001b[0m  \u001b[1;36m2024\u001b[0m-\u001b[1;36m07\u001b[0m-\u001b[1;36m08\u001b[0m    বিবিধঃ                     ডিম \u001b[1m(\u001b[0mফার্ম\u001b[1m)\u001b[0m        প্রতি হালি   \n",
       "\u001b[1;36m55040\u001b[0m  \u001b[1;36m2024\u001b[0m-\u001b[1;36m07\u001b[0m-\u001b[1;36m08\u001b[0m    বিবিধঃ                লেখার কা\u001b[1;35mগজ\u001b[0m\u001b[1m(\u001b[0mসাদা\u001b[1m)\u001b[0m      প্রতি দিস্তা   \n",
       "\u001b[1;36m55041\u001b[0m  \u001b[1;36m2024\u001b[0m-\u001b[1;36m07\u001b[0m-\u001b[1;36m08\u001b[0m    বিবিধঃ             এম,এস রড \u001b[1m(\u001b[0m৬০ গ্রেড\u001b[1m)\u001b[0m       প্রতি মেঃটন   \n",
       "\u001b[1;36m55042\u001b[0m  \u001b[1;36m2024\u001b[0m-\u001b[1;36m07\u001b[0m-\u001b[1;36m08\u001b[0m    বিবিধঃ             এম,এস \u001b[1;35mরড\u001b[0m\u001b[1m(\u001b[0m ৪০ গ্রেড\u001b[1m)\u001b[0m       প্রতি মেঃটন   \n",
       "\n",
       "      low_price high_price  \n",
       "\u001b[1;36m0\u001b[0m            \u001b[1;36m75\u001b[0m         \u001b[1;36m85\u001b[0m  \n",
       "\u001b[1;36m1\u001b[0m            \u001b[1;36m60\u001b[0m         \u001b[1;36m75\u001b[0m  \n",
       "\u001b[1;36m2\u001b[0m            \u001b[1;36m55\u001b[0m         \u001b[1;36m60\u001b[0m  \n",
       "\u001b[1;36m3\u001b[0m            \u001b[1;36m40\u001b[0m         \u001b[1;36m45\u001b[0m  \n",
       "\u001b[1;36m4\u001b[0m            \u001b[1;36m50\u001b[0m         \u001b[1;36m55\u001b[0m  \n",
       "\u001b[33m...\u001b[0m         \u001b[33m...\u001b[0m        \u001b[33m...\u001b[0m  \n",
       "\u001b[1;36m55038\u001b[0m        \u001b[1;36m38\u001b[0m         \u001b[1;36m42\u001b[0m  \n",
       "\u001b[1;36m55039\u001b[0m        \u001b[1;36m45\u001b[0m         \u001b[1;36m50\u001b[0m  \n",
       "\u001b[1;36m55040\u001b[0m        \u001b[1;36m30\u001b[0m         \u001b[1;36m35\u001b[0m  \n",
       "\u001b[1;36m55041\u001b[0m     \u001b[1;36m88500\u001b[0m      \u001b[1;36m89500\u001b[0m  \n",
       "\u001b[1;36m55042\u001b[0m     \u001b[1;36m85500\u001b[0m      \u001b[1;36m87500\u001b[0m  \n",
       "\n",
       "\u001b[1m[\u001b[0m\u001b[1;36m54665\u001b[0m rows x \u001b[1;36m6\u001b[0m columns\u001b[1m]\u001b[0m"
      ]
     },
     "execution_count": 119,
     "metadata": {},
     "output_type": "execute_result"
    }
   ],
   "source": [
    "df"
   ]
  },
  {
   "cell_type": "code",
   "execution_count": 120,
   "id": "15b5373e",
   "metadata": {},
   "outputs": [],
   "source": [
    "df['date'] = pd.to_datetime(df['date'])"
   ]
  },
  {
   "cell_type": "code",
   "execution_count": 121,
   "id": "94eddec2",
   "metadata": {},
   "outputs": [
    {
     "name": "stdout",
     "output_type": "stream",
     "text": [
      "\n",
      "=== CHECKING low_price ===\n",
      "Non-numeric values found in low_price:\n",
      "['বাজারে পাওয়া']\n",
      "Count: 1\n",
      "\n",
      "=== CHECKING high_price ===\n",
      "Non-numeric values found in high_price:\n",
      "['যায়নি']\n",
      "Count: 1\n"
     ]
    }
   ],
   "source": [
    "\n",
    "numeric_cols = ['low_price', 'high_price']\n",
    "\n",
    "for col in numeric_cols:\n",
    "    print(f\"\\n=== CHECKING {col} ===\")\n",
    "    \n",
    "    numeric_series = pd.to_numeric(df[col], errors='coerce')\n",
    "    non_numeric_mask = numeric_series.isna() & df[col].notna()\n",
    "    \n",
    "    if non_numeric_mask.any():\n",
    "        print(f\"Non-numeric values found in {col}:\")\n",
    "        non_numeric_values = df.loc[non_numeric_mask, col].unique()\n",
    "        print(non_numeric_values)\n",
    "        print(f\"Count: {non_numeric_mask.sum()}\")\n",
    "    else:\n",
    "        print(f\"All values in {col} are numeric!\")"
   ]
  },
  {
   "cell_type": "code",
   "execution_count": 122,
   "id": "ad5b36a0",
   "metadata": {},
   "outputs": [
    {
     "data": {
      "text/html": [
       "<pre style=\"white-space:pre;overflow-x:auto;line-height:normal;font-family:Menlo,'DejaVu Sans Mono',consolas,'Courier New',monospace\"></pre>\n"
      ],
      "text/plain": []
     },
     "metadata": {},
     "output_type": "display_data"
    },
    {
     "data": {
      "text/plain": [
       "\n",
       "\u001b[1;36m42669\u001b[0m    বাজারে পাওয়া\n",
       "Name: low_price, dtype: object"
      ]
     },
     "execution_count": 122,
     "metadata": {},
     "output_type": "execute_result"
    }
   ],
   "source": [
    "df.loc[df['low_price'] == 'বাজারে পাওয়া', 'low_price']"
   ]
  },
  {
   "cell_type": "code",
   "execution_count": 123,
   "id": "3428ba68",
   "metadata": {},
   "outputs": [
    {
     "data": {
      "text/html": [
       "<pre style=\"white-space:pre;overflow-x:auto;line-height:normal;font-family:Menlo,'DejaVu Sans Mono',consolas,'Courier New',monospace\"></pre>\n"
      ],
      "text/plain": []
     },
     "metadata": {},
     "output_type": "display_data"
    },
    {
     "data": {
      "text/plain": [
       "\n",
       "\u001b[1;36m42669\u001b[0m    যায়নি\n",
       "Name: high_price, dtype: object"
      ]
     },
     "execution_count": 123,
     "metadata": {},
     "output_type": "execute_result"
    }
   ],
   "source": [
    "df.loc[df['high_price'] == 'যায়নি', 'high_price']"
   ]
  },
  {
   "cell_type": "markdown",
   "id": "a5723ed6",
   "metadata": {},
   "source": [
    "**there seems to be one row with non numeric column. possible typo**"
   ]
  },
  {
   "cell_type": "code",
   "execution_count": 124,
   "id": "1d3838a9",
   "metadata": {},
   "outputs": [],
   "source": [
    "df['low_price'] = pd.to_numeric(df['low_price'], errors='coerce')\n",
    "df['high_price'] = pd.to_numeric(df['high_price'], errors='coerce')"
   ]
  },
  {
   "cell_type": "code",
   "execution_count": 125,
   "id": "e7ec12cb",
   "metadata": {},
   "outputs": [
    {
     "data": {
      "text/html": [
       "<pre style=\"white-space:pre;overflow-x:auto;line-height:normal;font-family:Menlo,'DejaVu Sans Mono',consolas,'Courier New',monospace\"></pre>\n"
      ],
      "text/plain": []
     },
     "metadata": {},
     "output_type": "display_data"
    },
    {
     "data": {
      "text/plain": [
       "\n",
       "unit\n",
       "প্রতি কেজি          \u001b[1;36m38071\u001b[0m\n",
       "১ কেজি               \u001b[1;36m4116\u001b[0m\n",
       "প্রতি লিটার          \u001b[1;36m3085\u001b[0m\n",
       "প্রতি কেজি প্যাঃ     \u001b[1;36m2058\u001b[0m\n",
       "প্রতি মেঃটন          \u001b[1;36m2058\u001b[0m\n",
       "৫ লিটার              \u001b[1;36m1490\u001b[0m\n",
       "১ লিটার              \u001b[1;36m1357\u001b[0m\n",
       "প্রতি দিস্তা         \u001b[1;36m1029\u001b[0m\n",
       "প্রতি হালি           \u001b[1;36m1029\u001b[0m\n",
       "\u001b[1;36m2\u001b[0m লিটার               \u001b[1;36m370\u001b[0m\n",
       "\u001b[1;36m50.00\u001b[0m-\u001b[1;36m52.00\u001b[0m             \u001b[1;36m2\u001b[0m\n",
       "Name: count, dtype: int64"
      ]
     },
     "execution_count": 125,
     "metadata": {},
     "output_type": "execute_result"
    }
   ],
   "source": [
    "df['unit'].value_counts()"
   ]
  },
  {
   "cell_type": "code",
   "execution_count": 126,
   "id": "6860563f",
   "metadata": {},
   "outputs": [
    {
     "data": {
      "text/html": [
       "<pre style=\"white-space:pre;overflow-x:auto;line-height:normal;font-family:Menlo,'DejaVu Sans Mono',consolas,'Courier New',monospace\"></pre>\n"
      ],
      "text/plain": []
     },
     "metadata": {},
     "output_type": "display_data"
    },
    {
     "data": {
      "text/html": [
       "<div>\n",
       "<style scoped>\n",
       "    .dataframe tbody tr th:only-of-type {\n",
       "        vertical-align: middle;\n",
       "    }\n",
       "\n",
       "    .dataframe tbody tr th {\n",
       "        vertical-align: top;\n",
       "    }\n",
       "\n",
       "    .dataframe thead th {\n",
       "        text-align: right;\n",
       "    }\n",
       "</style>\n",
       "<table border=\"1\" class=\"dataframe\">\n",
       "  <thead>\n",
       "    <tr style=\"text-align: right;\">\n",
       "      <th></th>\n",
       "      <th>date</th>\n",
       "      <th>category</th>\n",
       "      <th>item</th>\n",
       "      <th>unit</th>\n",
       "      <th>low_price</th>\n",
       "      <th>high_price</th>\n",
       "    </tr>\n",
       "  </thead>\n",
       "  <tbody>\n",
       "    <tr>\n",
       "      <th>5664</th>\n",
       "      <td>2023-11-13</td>\n",
       "      <td>মসলাঃ</td>\n",
       "      <td>তেজপাতা</td>\n",
       "      <td>50.00-52.00</td>\n",
       "      <td>150.0</td>\n",
       "      <td>200.0</td>\n",
       "    </tr>\n",
       "    <tr>\n",
       "      <th>41850</th>\n",
       "      <td>2023-11-14</td>\n",
       "      <td>মসলাঃ</td>\n",
       "      <td>তেজপাতা</td>\n",
       "      <td>50.00-52.00</td>\n",
       "      <td>150.0</td>\n",
       "      <td>200.0</td>\n",
       "    </tr>\n",
       "  </tbody>\n",
       "</table>\n",
       "</div>"
      ],
      "text/plain": [
       "\n",
       "            date category     item         unit  low_price  high_price\n",
       "\u001b[1;36m5664\u001b[0m  \u001b[1;36m2023\u001b[0m-\u001b[1;36m11\u001b[0m-\u001b[1;36m13\u001b[0m    মসলাঃ  তেজপাতা  \u001b[1;36m50.00\u001b[0m-\u001b[1;36m52.00\u001b[0m      \u001b[1;36m150.0\u001b[0m       \u001b[1;36m200.0\u001b[0m\n",
       "\u001b[1;36m41850\u001b[0m \u001b[1;36m2023\u001b[0m-\u001b[1;36m11\u001b[0m-\u001b[1;36m14\u001b[0m    মসলাঃ  তেজপাতা  \u001b[1;36m50.00\u001b[0m-\u001b[1;36m52.00\u001b[0m      \u001b[1;36m150.0\u001b[0m       \u001b[1;36m200.0\u001b[0m"
      ]
     },
     "execution_count": 126,
     "metadata": {},
     "output_type": "execute_result"
    }
   ],
   "source": [
    "df[df['unit'] == '50.00-52.00']"
   ]
  },
  {
   "cell_type": "markdown",
   "id": "09529b07",
   "metadata": {},
   "source": [
    "**some units seem to have been mislabeled. ahve to fill them with proper unit for the item.**"
   ]
  },
  {
   "cell_type": "code",
   "execution_count": 127,
   "id": "00df0624",
   "metadata": {},
   "outputs": [
    {
     "data": {
      "text/html": [
       "<pre style=\"white-space:pre;overflow-x:auto;line-height:normal;font-family:Menlo,'DejaVu Sans Mono',consolas,'Courier New',monospace\"></pre>\n"
      ],
      "text/plain": []
     },
     "metadata": {},
     "output_type": "display_data"
    },
    {
     "data": {
      "text/plain": [
       "\n",
       "\u001b[1;36m36\u001b[0m       প্রতি কেজি\n",
       "\u001b[1;36m91\u001b[0m       প্রতি কেজি\n",
       "\u001b[1;36m146\u001b[0m      প্রতি কেজি\n",
       "\u001b[1;36m198\u001b[0m      প্রতি কেজি\n",
       "\u001b[1;36m255\u001b[0m      প্রতি কেজি\n",
       "            \u001b[33m...\u001b[0m    \n",
       "\u001b[1;36m54811\u001b[0m    প্রতি কেজি\n",
       "\u001b[1;36m54865\u001b[0m    প্রতি কেজি\n",
       "\u001b[1;36m54917\u001b[0m    প্রতি কেজি\n",
       "\u001b[1;36m54971\u001b[0m    প্রতি কেজি\n",
       "\u001b[1;36m55025\u001b[0m    প্রতি কেজি\n",
       "Name: unit, Length: \u001b[1;36m1029\u001b[0m, dtype: object"
      ]
     },
     "execution_count": 127,
     "metadata": {},
     "output_type": "execute_result"
    }
   ],
   "source": [
    "df[df['item'] == 'তেজপাতা']['unit']"
   ]
  },
  {
   "cell_type": "code",
   "execution_count": 128,
   "id": "803bf6fe",
   "metadata": {},
   "outputs": [
    {
     "data": {
      "text/html": [
       "<pre style=\"white-space:pre;overflow-x:auto;line-height:normal;font-family:Menlo,'DejaVu Sans Mono',consolas,'Courier New',monospace\"><span style=\"color: #7fbfbf; text-decoration-color: #7fbfbf\">                    </span><span style=\"color: #808000; text-decoration-color: #808000\">WARNING </span> <span style=\"color: #800080; text-decoration-color: #800080\">/tmp/ipykernel_6571/</span><span style=\"color: #ff00ff; text-decoration-color: #ff00ff\">905726389.py</span>:<span style=\"color: #008080; text-decoration-color: #008080; font-weight: bold\">1</span>: SettingWithCopyWarning:            <a href=\"file:///home/zishan/anaconda3/envs/commodity_price_forecasting/lib/python3.11/warnings.py\" target=\"_blank\"><span style=\"color: #7f7f7f; text-decoration-color: #7f7f7f\">warnings.py</span></a><span style=\"color: #7f7f7f; text-decoration-color: #7f7f7f\">:</span><a href=\"file:///home/zishan/anaconda3/envs/commodity_price_forecasting/lib/python3.11/warnings.py#110\" target=\"_blank\"><span style=\"color: #7f7f7f; text-decoration-color: #7f7f7f\">110</span></a>\n",
       "<span style=\"color: #7fbfbf; text-decoration-color: #7fbfbf\">                    </span>         A value is trying to be set on a copy of a slice from a DataFrame.     <span style=\"color: #7f7f7f; text-decoration-color: #7f7f7f\">               </span>\n",
       "<span style=\"color: #7fbfbf; text-decoration-color: #7fbfbf\">                    </span>         Try using .loc = value instead                                         <span style=\"color: #7f7f7f; text-decoration-color: #7f7f7f\">               </span>\n",
       "<span style=\"color: #7fbfbf; text-decoration-color: #7fbfbf\">                    </span>                                                                                <span style=\"color: #7f7f7f; text-decoration-color: #7f7f7f\">               </span>\n",
       "<span style=\"color: #7fbfbf; text-decoration-color: #7fbfbf\">                    </span>         See the caveats in the documentation:                                  <span style=\"color: #7f7f7f; text-decoration-color: #7f7f7f\">               </span>\n",
       "<span style=\"color: #7fbfbf; text-decoration-color: #7fbfbf\">                    </span>         <span style=\"color: #0000ff; text-decoration-color: #0000ff; text-decoration: underline\">https://pandas.pydata.org/pandas-docs/stable/user_guide/indexing.html#</span> <span style=\"color: #7f7f7f; text-decoration-color: #7f7f7f\">               </span>\n",
       "<span style=\"color: #7fbfbf; text-decoration-color: #7fbfbf\">                    </span>         <span style=\"color: #0000ff; text-decoration-color: #0000ff; text-decoration: underline\">returning-a-view-versus-a-copy</span>                                         <span style=\"color: #7f7f7f; text-decoration-color: #7f7f7f\">               </span>\n",
       "<span style=\"color: #7fbfbf; text-decoration-color: #7fbfbf\">                    </span>           df<span style=\"font-weight: bold\">[</span>df<span style=\"font-weight: bold\">[</span><span style=\"color: #008000; text-decoration-color: #008000\">'unit'</span><span style=\"font-weight: bold\">]</span> == <span style=\"color: #008000; text-decoration-color: #008000\">'50.00-52.00'</span><span style=\"font-weight: bold\">][</span><span style=\"color: #008000; text-decoration-color: #008000\">'unit'</span><span style=\"font-weight: bold\">]</span> = <span style=\"color: #008000; text-decoration-color: #008000\">'প্রতি কেজি'</span>                   <span style=\"color: #7f7f7f; text-decoration-color: #7f7f7f\">               </span>\n",
       "<span style=\"color: #7fbfbf; text-decoration-color: #7fbfbf\">                    </span>                                                                                <span style=\"color: #7f7f7f; text-decoration-color: #7f7f7f\">               </span>\n",
       "</pre>\n"
      ],
      "text/plain": [
       "\u001b[2;36m                   \u001b[0m\u001b[2;36m \u001b[0m\u001b[33mWARNING \u001b[0m \u001b[35m/tmp/ipykernel_6571/\u001b[0m\u001b[95m905726389.py\u001b[0m:\u001b[1;36m1\u001b[0m: SettingWithCopyWarning:            \u001b]8;id=61830;file:///home/zishan/anaconda3/envs/commodity_price_forecasting/lib/python3.11/warnings.py\u001b\\\u001b[2mwarnings.py\u001b[0m\u001b]8;;\u001b\\\u001b[2m:\u001b[0m\u001b]8;id=687678;file:///home/zishan/anaconda3/envs/commodity_price_forecasting/lib/python3.11/warnings.py#110\u001b\\\u001b[2m110\u001b[0m\u001b]8;;\u001b\\\n",
       "\u001b[2;36m                    \u001b[0m         A value is trying to be set on a copy of a slice from a DataFrame.     \u001b[2m               \u001b[0m\n",
       "\u001b[2;36m                    \u001b[0m         Try using .loc = value instead                                         \u001b[2m               \u001b[0m\n",
       "\u001b[2;36m                    \u001b[0m                                                                                \u001b[2m               \u001b[0m\n",
       "\u001b[2;36m                    \u001b[0m         See the caveats in the documentation:                                  \u001b[2m               \u001b[0m\n",
       "\u001b[2;36m                    \u001b[0m         \u001b[4;94mhttps://pandas.pydata.org/pandas-docs/stable/user_guide/indexing.html#\u001b[0m \u001b[2m               \u001b[0m\n",
       "\u001b[2;36m                    \u001b[0m         \u001b[4;94mreturning-a-view-versus-a-copy\u001b[0m                                         \u001b[2m               \u001b[0m\n",
       "\u001b[2;36m                    \u001b[0m           df\u001b[1m[\u001b[0mdf\u001b[1m[\u001b[0m\u001b[32m'unit'\u001b[0m\u001b[1m]\u001b[0m == \u001b[32m'50.00-52.00'\u001b[0m\u001b[1m]\u001b[0m\u001b[1m[\u001b[0m\u001b[32m'unit'\u001b[0m\u001b[1m]\u001b[0m = \u001b[32m'প্রতি কেজি'\u001b[0m                   \u001b[2m               \u001b[0m\n",
       "\u001b[2;36m                    \u001b[0m                                                                                \u001b[2m               \u001b[0m\n"
      ]
     },
     "metadata": {},
     "output_type": "display_data"
    }
   ],
   "source": [
    "df[df['unit'] == '50.00-52.00']['unit'] = 'প্রতি কেজি'"
   ]
  },
  {
   "cell_type": "code",
   "execution_count": 129,
   "id": "9a8cb752",
   "metadata": {},
   "outputs": [],
   "source": [
    "unit_mapping = {\n",
    "    'প্রতি কেজি': '১ কেজি',\n",
    "    'প্রতি লিটার': '১ লিটার',\n",
    "    'প্রতি কেজি প্যাঃ': '১ কেজি',\n",
    "    'প্রতি মেঃটন': '১ মেঃটন',\n",
    "    'প্রতি দিস্তা': '১ দিস্তা',\n",
    "    'প্রতি হালি': '১ হালি',\n",
    "}\n",
    "\n",
    "df['unit'] = df['unit'].replace(unit_mapping)"
   ]
  },
  {
   "cell_type": "code",
   "execution_count": 130,
   "id": "4443ad1e",
   "metadata": {},
   "outputs": [
    {
     "data": {
      "text/html": [
       "<pre style=\"white-space:pre;overflow-x:auto;line-height:normal;font-family:Menlo,'DejaVu Sans Mono',consolas,'Courier New',monospace\"></pre>\n"
      ],
      "text/plain": []
     },
     "metadata": {},
     "output_type": "display_data"
    },
    {
     "data": {
      "text/plain": [
       "\n",
       "unit\n",
       "১ কেজি         \u001b[1;36m44245\u001b[0m\n",
       "১ লিটার         \u001b[1;36m4442\u001b[0m\n",
       "১ মেঃটন         \u001b[1;36m2058\u001b[0m\n",
       "৫ লিটার         \u001b[1;36m1490\u001b[0m\n",
       "১ দিস্তা        \u001b[1;36m1029\u001b[0m\n",
       "১ হালি          \u001b[1;36m1029\u001b[0m\n",
       "\u001b[1;36m2\u001b[0m লিটার          \u001b[1;36m370\u001b[0m\n",
       "\u001b[1;36m50.00\u001b[0m-\u001b[1;36m52.00\u001b[0m        \u001b[1;36m2\u001b[0m\n",
       "Name: count, dtype: int64"
      ]
     },
     "execution_count": 130,
     "metadata": {},
     "output_type": "execute_result"
    }
   ],
   "source": [
    "df['unit'].value_counts()"
   ]
  },
  {
   "cell_type": "code",
   "execution_count": 131,
   "id": "8d40f715",
   "metadata": {},
   "outputs": [
    {
     "name": "stdout",
     "output_type": "stream",
     "text": [
      "<class 'pandas.core.frame.DataFrame'>\n",
      "Index: 54665 entries, 0 to 55042\n",
      "Data columns (total 6 columns):\n",
      " #   Column      Non-Null Count  Dtype         \n",
      "---  ------      --------------  -----         \n",
      " 0   date        54665 non-null  datetime64[ns]\n",
      " 1   category    54665 non-null  object        \n",
      " 2   item        54665 non-null  object        \n",
      " 3   unit        54665 non-null  object        \n",
      " 4   low_price   54664 non-null  float64       \n",
      " 5   high_price  54664 non-null  float64       \n",
      "dtypes: datetime64[ns](1), float64(2), object(3)\n",
      "memory usage: 2.9+ MB\n"
     ]
    }
   ],
   "source": [
    "df.info()"
   ]
  },
  {
   "cell_type": "code",
   "execution_count": 132,
   "id": "1ebb7f5c",
   "metadata": {},
   "outputs": [
    {
     "data": {
      "text/html": [
       "<pre style=\"white-space:pre;overflow-x:auto;line-height:normal;font-family:Menlo,'DejaVu Sans Mono',consolas,'Courier New',monospace\"></pre>\n"
      ],
      "text/plain": []
     },
     "metadata": {},
     "output_type": "display_data"
    },
    {
     "data": {
      "text/html": [
       "<div>\n",
       "<style scoped>\n",
       "    .dataframe tbody tr th:only-of-type {\n",
       "        vertical-align: middle;\n",
       "    }\n",
       "\n",
       "    .dataframe tbody tr th {\n",
       "        vertical-align: top;\n",
       "    }\n",
       "\n",
       "    .dataframe thead th {\n",
       "        text-align: right;\n",
       "    }\n",
       "</style>\n",
       "<table border=\"1\" class=\"dataframe\">\n",
       "  <thead>\n",
       "    <tr style=\"text-align: right;\">\n",
       "      <th></th>\n",
       "      <th>date</th>\n",
       "      <th>category</th>\n",
       "      <th>item</th>\n",
       "      <th>unit</th>\n",
       "      <th>low_price</th>\n",
       "      <th>high_price</th>\n",
       "    </tr>\n",
       "  </thead>\n",
       "  <tbody>\n",
       "  </tbody>\n",
       "</table>\n",
       "</div>"
      ],
      "text/plain": [
       "\n",
       "Empty DataFrame\n",
       "Columns: \u001b[1m[\u001b[0mdate, category, item, unit, low_price, high_price\u001b[1m]\u001b[0m\n",
       "Index: \u001b[1m[\u001b[0m\u001b[1m]\u001b[0m"
      ]
     },
     "execution_count": 132,
     "metadata": {},
     "output_type": "execute_result"
    }
   ],
   "source": [
    "df[df['unit'].isna()]"
   ]
  },
  {
   "cell_type": "code",
   "execution_count": 133,
   "id": "e2cc3d5d",
   "metadata": {},
   "outputs": [
    {
     "data": {
      "text/html": [
       "<pre style=\"white-space:pre;overflow-x:auto;line-height:normal;font-family:Menlo,'DejaVu Sans Mono',consolas,'Courier New',monospace\"></pre>\n"
      ],
      "text/plain": []
     },
     "metadata": {},
     "output_type": "display_data"
    },
    {
     "data": {
      "text/plain": [
       "\n",
       "category\n",
       "মসলাঃ                   \u001b[1;36m16464\u001b[0m\n",
       "ডাল                      \u001b[1;36m7203\u001b[0m\n",
       "বিবিধঃ                   \u001b[1;36m7203\u001b[0m\n",
       "ভোজ্য তেল                \u001b[1;36m6302\u001b[0m\n",
       "মাছ ও গোশত:              \u001b[1;36m6174\u001b[0m\n",
       "আটা\u001b[35m/\u001b[0m\u001b[95mময়দ\u001b[0mা                 \u001b[1;36m4116\u001b[0m\n",
       "গুড়া দু\u001b[1;35mধ\u001b[0m\u001b[1m(\u001b[0mপ্যাকেটজাত\u001b[1m)\u001b[0m     \u001b[1;36m4116\u001b[0m\n",
       "চাল                      \u001b[1;36m3087\u001b[0m\n",
       "Name: count, dtype: int64"
      ]
     },
     "execution_count": 133,
     "metadata": {},
     "output_type": "execute_result"
    }
   ],
   "source": [
    "df['category'].value_counts()"
   ]
  },
  {
   "cell_type": "code",
   "execution_count": 134,
   "id": "648d8d51",
   "metadata": {},
   "outputs": [],
   "source": [
    "category_mapping = {\n",
    "    'মসলাঃ': 'মসলা',\n",
    "    'বিবিধঃ': 'বিবিধ', \n",
    "    'মাছ ও গোশত:': 'মাছ/গোশত',\n",
    "}\n",
    "\n",
    "df['category'] = df['category'].replace(category_mapping)"
   ]
  },
  {
   "cell_type": "code",
   "execution_count": 135,
   "id": "68f3f9a0",
   "metadata": {},
   "outputs": [
    {
     "data": {
      "text/html": [
       "<pre style=\"white-space:pre;overflow-x:auto;line-height:normal;font-family:Menlo,'DejaVu Sans Mono',consolas,'Courier New',monospace\"></pre>\n"
      ],
      "text/plain": []
     },
     "metadata": {},
     "output_type": "display_data"
    },
    {
     "data": {
      "text/plain": [
       "\n",
       "category\n",
       "মসলা                    \u001b[1;36m16464\u001b[0m\n",
       "ডাল                      \u001b[1;36m7203\u001b[0m\n",
       "বিবিধ                    \u001b[1;36m7203\u001b[0m\n",
       "ভোজ্য তেল                \u001b[1;36m6302\u001b[0m\n",
       "মাছ/গোশত                 \u001b[1;36m6174\u001b[0m\n",
       "আটা\u001b[35m/\u001b[0m\u001b[95mময়দ\u001b[0mা                 \u001b[1;36m4116\u001b[0m\n",
       "গুড়া দু\u001b[1;35mধ\u001b[0m\u001b[1m(\u001b[0mপ্যাকেটজাত\u001b[1m)\u001b[0m     \u001b[1;36m4116\u001b[0m\n",
       "চাল                      \u001b[1;36m3087\u001b[0m\n",
       "Name: count, dtype: int64"
      ]
     },
     "execution_count": 135,
     "metadata": {},
     "output_type": "execute_result"
    }
   ],
   "source": [
    "df['category'].value_counts()"
   ]
  },
  {
   "cell_type": "code",
   "execution_count": 136,
   "id": "aae4330f",
   "metadata": {},
   "outputs": [
    {
     "data": {
      "text/html": [
       "<pre style=\"white-space:pre;overflow-x:auto;line-height:normal;font-family:Menlo,'DejaVu Sans Mono',consolas,'Courier New',monospace\"></pre>\n"
      ],
      "text/plain": []
     },
     "metadata": {},
     "output_type": "display_data"
    },
    {
     "data": {
      "text/plain": [
       "\n",
       "item\n",
       "সয়াবিন তেল \u001b[1m(\u001b[0mবোতল\u001b[1m)\u001b[0m               \u001b[1;36m2392\u001b[0m\n",
       "চাল \u001b[1m(\u001b[0mমোটা\u001b[1m)\u001b[0m\u001b[35m/\u001b[0m\u001b[95mস\u001b[0m্বর্ণা\u001b[35m/\u001b[0m\u001b[95mচ\u001b[0mায়না ইরি    \u001b[1;36m1029\u001b[0m\n",
       "আটা সাদা \u001b[1m(\u001b[0mখোলা\u001b[1m)\u001b[0m                 \u001b[1;36m1029\u001b[0m\n",
       "আটা \u001b[1m(\u001b[0mপ্যাকেট\u001b[1m)\u001b[0m                   \u001b[1;36m1029\u001b[0m\n",
       "চাল সরু \u001b[1m(\u001b[0mনাজির/মিনিকেট\u001b[1m)\u001b[0m         \u001b[1;36m1029\u001b[0m\n",
       "                                \u001b[33m...\u001b[0m \n",
       "রসু\u001b[1;35mন\u001b[0m\u001b[1m(\u001b[0mদেশী\u001b[1m)\u001b[0m                        \u001b[1;36m60\u001b[0m\n",
       "আলু \u001b[1m(\u001b[0mনতুন/পুরাতন\u001b[1m)\u001b[0m\u001b[1m(\u001b[0mমানভেদে\u001b[1m)\u001b[0m        \u001b[1;36m41\u001b[0m\n",
       "রসু\u001b[1;35mন\u001b[0m\u001b[1m(\u001b[0mদেশী\u001b[1m)\u001b[0m পুরাতন                 \u001b[1;36m29\u001b[0m\n",
       "রসু\u001b[1;35mন\u001b[0m\u001b[1m(\u001b[0mদেশী\u001b[1m)\u001b[0m নতুন/পুরাতন            \u001b[1;36m29\u001b[0m\n",
       "পিঁয়াজ \u001b[1m(\u001b[0mনতুন/পুরাতন\u001b[1m)\u001b[0m \u001b[1m(\u001b[0mদেশী\u001b[1m)\u001b[0m        \u001b[1;36m7\u001b[0m\n",
       "Name: count, Length: \u001b[1;36m69\u001b[0m, dtype: int64"
      ]
     },
     "execution_count": 136,
     "metadata": {},
     "output_type": "execute_result"
    }
   ],
   "source": [
    "df['item'].value_counts()"
   ]
  },
  {
   "cell_type": "code",
   "execution_count": 137,
   "id": "c2ad411a",
   "metadata": {},
   "outputs": [
    {
     "name": "stdout",
     "output_type": "stream",
     "text": [
      "চাল সরু (নাজির/মিনিকেট)\n",
      "চাল (মাঝারী)পাইজাম/আটাশ\n",
      "চাল (মোটা)/স্বর্ণা/চায়না ইরি\n",
      "আটা সাদা (খোলা)\n",
      "আটা (প্যাকেট)\n",
      "ময়দা (খোলা)\n",
      "ময়দা (প্যাকেট)\n",
      "সয়াবিন তেল (লুজ)\n",
      "সয়াবিন তেল (বোতল)\n",
      "পাম অয়েল (লুজ)\n",
      "সুপার পাম অয়েল (লুজ)\n",
      "রাইস ব্রান তেল (বোতল)\n",
      "মশুর ডাল (বড় দানা)\n",
      "মশুর ডাল (মাঝারী দানা)\n",
      "মশুর ডাল (ছোট দানা)\n",
      "মুগ ডাল (মানভেদে)\n",
      "এ্যাংকর ডাল\n",
      "ছোলা (মানভেদে)\n",
      "আলু (মানভেদে)\n",
      "পিঁয়াজ (দেশী)\n",
      "পিঁয়াজ (আমদানি)\n",
      "রসুন (দেশী)\n",
      "রসুন (আমদানি)\n",
      "শুকনা মরিচ (দেশী)\n",
      "শুকনা মরিচ (আমদানি)\n",
      "হলুদ (দেশী)\n",
      "হলুদ (আমদানি)\n",
      "আদা (দেশী)\n",
      "আদা (আমদানি)\n",
      "জিরা\n",
      "দারুচিনি\n",
      "লবঙ্গ\n",
      "এলাচ(ছোট)\n",
      "ধনে\n",
      "তেজপাতা\n",
      "রুই\n",
      "ইলিশ\n",
      "গরু\n",
      "খাসী\n",
      "মুরগী(ব্রয়লার)\n",
      "মুরগী (দেশী)\n",
      "ডানো\n",
      "ডিপ্লোমা (নিউজিল্যান্ড)\n",
      "ফ্রেশ\n",
      "মার্কস\n",
      "চিনি\n",
      "খেজুর(সাধারণ মানের)\n",
      "লবণ(প্যাঃ)আয়োডিনযুক্ত\n",
      "ডিম (ফার্ম)\n",
      "লেখার কাগজ(সাদা)\n",
      "এম,এস রড (৬০ গ্রেড)\n",
      "এম,এস রড( ৪০ গ্রেড)\n",
      "পাম অয়েল (সুপার)\n",
      "মশূর ডাল (মাঝারী দানা)\n",
      "লবণ(প্যাঃ)আয়োডিনযুক্ত(মানভেদে)\n",
      "চাল (মাঝারী)পাইজাম/লতা\n",
      "রসুন(দেশী) নতুন/পুরাতন)\n",
      "পাম অলিন (বোতল)\n",
      "পিঁয়াজ (নতুন) (দেশী)\n",
      "রসুন(দেশী)\n",
      "আলু (নতুন, মানভেদে)\n",
      "রসুন(দেশী) নতুন\n",
      "আদা (দেশী)(নতুন)\n",
      "আদা (দেশী) নতুন\n",
      "আলু (নতুন/পুরাতন)(মানভেদে)\n",
      "রসুন(দেশী) পুরাতন\n",
      "রসুন (দেশী) নতুন/পুরাতন\n",
      "রসুন(দেশী) নতুন/পুরাতন\n",
      "পিঁয়াজ (নতুন/পুরাতন) (দেশী)\n"
     ]
    }
   ],
   "source": [
    "for item in df['item'].unique():\n",
    "    print(item)"
   ]
  },
  {
   "cell_type": "markdown",
   "id": "aa35b8fb",
   "metadata": {},
   "source": [
    "**There seems to be some redundent names that need merging**"
   ]
  },
  {
   "cell_type": "code",
   "execution_count": 138,
   "id": "fbf82a7a",
   "metadata": {},
   "outputs": [
    {
     "name": "stdout",
     "output_type": "stream",
     "text": [
      "item\n",
      "সয়াবিন তেল (বোতল)                 2392\n",
      "চাল (মোটা)/স্বর্ণা/চায়না ইরি      1029\n",
      "আটা সাদা (খোলা)                   1029\n",
      "আটা (প্যাকেট)                     1029\n",
      "চাল সরু (নাজির/মিনিকেট)           1029\n",
      "চিনি                              1029\n",
      "ময়দা (খোলা)                       1029\n",
      "ময়দা (প্যাকেট)                    1029\n",
      "পাম অয়েল (লুজ)                    1029\n",
      "মশুর ডাল (বড় দানা)                1029\n",
      "এ্যাংকর ডাল                       1029\n",
      "মুগ ডাল (মানভেদে)                 1029\n",
      "মশুর ডাল (ছোট দানা)               1029\n",
      "পিঁয়াজ (আমদানি)                   1029\n",
      "ছোলা (মানভেদে)                    1029\n",
      "হলুদ (আমদানি)                     1029\n",
      "আদা (আমদানি)                      1029\n",
      "হলুদ (দেশী)                       1029\n",
      "শুকনা মরিচ (আমদানি)               1029\n",
      "শুকনা মরিচ (দেশী)                 1029\n",
      "রসুন (আমদানি)                     1029\n",
      "ধনে                               1029\n",
      "তেজপাতা                           1029\n",
      "লবঙ্গ                             1029\n",
      "এলাচ(ছোট)                        1029\n",
      "রুই                               1029\n",
      "ইলিশ                              1029\n",
      "দারুচিনি                          1029\n",
      "জিরা                              1029\n",
      "মার্কস                            1029\n",
      "ফ্রেশ                             1029\n",
      "ডিপ্লোমা (নিউজিল্যান্ড)           1029\n",
      "ডানো                              1029\n",
      "মুরগী (দেশী)                      1029\n",
      "মুরগী(ব্রয়লার)                    1029\n",
      "খাসী                              1029\n",
      "গরু                               1029\n",
      "এম,এস রড( ৪০ গ্রেড)               1029\n",
      "খেজুর(সাধারণ মানের)               1029\n",
      "ডিম (ফার্ম)                       1029\n",
      "লেখার কাগজ(সাদা)                  1029\n",
      "এম,এস রড (৬০ গ্রেড)               1029\n",
      "সয়াবিন তেল (লুজ)                  1027\n",
      "মশূর ডাল (মাঝারী দানা)             922\n",
      "আলু (মানভেদে)                      882\n",
      "লবণ(প্যাঃ)আয়োডিনযুক্ত(মানভেদে)     837\n",
      "পাম অয়েল (সুপার)                   829\n",
      "পিঁয়াজ (দেশী)                      809\n",
      "রাইস ব্রান তেল (বোতল)              753\n",
      "চাল (মাঝারী)পাইজাম/লতা             749\n",
      "আদা (দেশী)                         716\n",
      "রসুন (দেশী)                        438\n",
      "রসুন(দেশী) নতুন/পুরাতন)            302\n",
      "চাল (মাঝারী)পাইজাম/আটাশ            280\n",
      "আদা (দেশী)(নতুন)                   214\n",
      "পিঁয়াজ (নতুন) (দেশী)               213\n",
      "সুপার পাম অয়েল (লুজ)               200\n",
      "লবণ(প্যাঃ)আয়োডিনযুক্ত              192\n",
      "মশুর ডাল (মাঝারী দানা)             107\n",
      "আলু (নতুন, মানভেদে)                106\n",
      "আদা (দেশী) নতুন                     99\n",
      "রসুন(দেশী) নতুন                     94\n",
      "রসুন (দেশী) নতুন/পুরাতন             77\n",
      "পাম অলিন (বোতল)                     72\n",
      "রসুন(দেশী)                          60\n",
      "আলু (নতুন/পুরাতন)(মানভেদে)          41\n",
      "রসুন(দেশী) পুরাতন                   29\n",
      "রসুন(দেশী) নতুন/পুরাতন              29\n",
      "পিঁয়াজ (নতুন/পুরাতন) (দেশী)          7\n",
      "Name: count, dtype: int64\n"
     ]
    }
   ],
   "source": [
    "pd.set_option('display.max_rows', 69)\n",
    "item_counts = df['item'].value_counts()\n",
    "print(item_counts)\n",
    "pd.reset_option('display.max_rows')"
   ]
  },
  {
   "cell_type": "code",
   "execution_count": 139,
   "id": "cd19de5d",
   "metadata": {},
   "outputs": [
    {
     "name": "stdout",
     "output_type": "stream",
     "text": [
      "\n",
      "============================================================\n",
      "ANALYZING MERGE POSSIBILITIES: RICE\n",
      "============================================================\n",
      "চাল (মাঝারী)পাইজাম/লতা: 749 unique dates from 2021-05-17 to 2024-10-29\n",
      "চাল (মাঝারী)পাইজাম/আটাশ: 280 unique dates from 2024-10-30 to 2025-10-13\n",
      "✅ CAN MERGE: চাল (মাঝারী)পাইজাম/লতা + চাল (মাঝারী)পাইজাম/আটাশ (completely disjoint dates)\n",
      "\n",
      "============================================================\n",
      "ANALYZING MERGE POSSIBILITIES: GARLIC_LOCAL\n",
      "============================================================\n",
      "রসুন (দেশী): 438 unique dates from 2021-09-01 to 2025-10-13\n",
      "রসুন(দেশী): 60 unique dates from 2024-06-24 to 2024-08-31\n",
      "রসুন(দেশী) নতুন/পুরাতন): 302 unique dates from 2022-02-18 to 2024-01-01\n",
      "রসুন(দেশী) নতুন: 94 unique dates from 2024-03-04 to 2024-06-23\n",
      "রসুন (দেশী) নতুন/পুরাতন: 77 unique dates from 2021-05-17 to 2021-08-27\n",
      "রসুন(দেশী) নতুন/পুরাতন: 29 unique dates from 2024-02-01 to 2024-03-03\n",
      "রসুন(দেশী) পুরাতন: 29 unique dates from 2024-01-02 to 2024-01-31\n",
      "✅ CAN MERGE: রসুন (দেশী) + রসুন(দেশী) (completely disjoint dates)\n",
      "✅ CAN MERGE: রসুন (দেশী) + রসুন(দেশী) নতুন/পুরাতন) (completely disjoint dates)\n",
      "✅ CAN MERGE: রসুন (দেশী) + রসুন(দেশী) নতুন (completely disjoint dates)\n",
      "✅ CAN MERGE: রসুন (দেশী) + রসুন (দেশী) নতুন/পুরাতন (completely disjoint dates)\n",
      "✅ CAN MERGE: রসুন (দেশী) + রসুন(দেশী) নতুন/পুরাতন (completely disjoint dates)\n",
      "✅ CAN MERGE: রসুন (দেশী) + রসুন(দেশী) পুরাতন (completely disjoint dates)\n",
      "✅ CAN MERGE: রসুন(দেশী) + রসুন(দেশী) নতুন/পুরাতন) (completely disjoint dates)\n",
      "✅ CAN MERGE: রসুন(দেশী) + রসুন(দেশী) নতুন (completely disjoint dates)\n",
      "✅ CAN MERGE: রসুন(দেশী) + রসুন (দেশী) নতুন/পুরাতন (completely disjoint dates)\n",
      "✅ CAN MERGE: রসুন(দেশী) + রসুন(দেশী) নতুন/পুরাতন (completely disjoint dates)\n",
      "✅ CAN MERGE: রসুন(দেশী) + রসুন(দেশী) পুরাতন (completely disjoint dates)\n",
      "✅ CAN MERGE: রসুন(দেশী) নতুন/পুরাতন) + রসুন(দেশী) নতুন (completely disjoint dates)\n",
      "✅ CAN MERGE: রসুন(দেশী) নতুন/পুরাতন) + রসুন (দেশী) নতুন/পুরাতন (completely disjoint dates)\n",
      "✅ CAN MERGE: রসুন(দেশী) নতুন/পুরাতন) + রসুন(দেশী) নতুন/পুরাতন (completely disjoint dates)\n",
      "✅ CAN MERGE: রসুন(দেশী) নতুন/পুরাতন) + রসুন(দেশী) পুরাতন (completely disjoint dates)\n",
      "✅ CAN MERGE: রসুন(দেশী) নতুন + রসুন (দেশী) নতুন/পুরাতন (completely disjoint dates)\n",
      "✅ CAN MERGE: রসুন(দেশী) নতুন + রসুন(দেশী) নতুন/পুরাতন (completely disjoint dates)\n",
      "✅ CAN MERGE: রসুন(দেশী) নতুন + রসুন(দেশী) পুরাতন (completely disjoint dates)\n",
      "✅ CAN MERGE: রসুন (দেশী) নতুন/পুরাতন + রসুন(দেশী) নতুন/পুরাতন (completely disjoint dates)\n",
      "✅ CAN MERGE: রসুন (দেশী) নতুন/পুরাতন + রসুন(দেশী) পুরাতন (completely disjoint dates)\n",
      "✅ CAN MERGE: রসুন(দেশী) নতুন/পুরাতন + রসুন(দেশী) পুরাতন (completely disjoint dates)\n",
      "\n",
      "============================================================\n",
      "ANALYZING MERGE POSSIBILITIES: GINGER_LOCAL\n",
      "============================================================\n",
      "আদা (দেশী): 716 unique dates from 2021-05-17 to 2025-10-13\n",
      "আদা (দেশী)(নতুন): 214 unique dates from 2023-10-25 to 2024-06-23\n",
      "আদা (দেশী) নতুন: 99 unique dates from 2021-11-01 to 2022-06-16\n",
      "✅ CAN MERGE: আদা (দেশী) + আদা (দেশী)(নতুন) (completely disjoint dates)\n",
      "✅ CAN MERGE: আদা (দেশী) + আদা (দেশী) নতুন (completely disjoint dates)\n",
      "✅ CAN MERGE: আদা (দেশী)(নতুন) + আদা (দেশী) নতুন (completely disjoint dates)\n",
      "\n",
      "============================================================\n",
      "ANALYZING MERGE POSSIBILITIES: ONION_LOCAL\n",
      "============================================================\n",
      "পিঁয়াজ (দেশী): 809 unique dates from 2021-05-17 to 2025-10-13\n",
      "পিঁয়াজ (নতুন) (দেশী): 213 unique dates from 2023-12-19 to 2024-08-18\n",
      "পিঁয়াজ (নতুন/পুরাতন) (দেশী): 7 unique dates from 2023-12-11 to 2023-12-18\n",
      "✅ CAN MERGE: পিঁয়াজ (দেশী) + পিঁয়াজ (নতুন) (দেশী) (completely disjoint dates)\n",
      "✅ CAN MERGE: পিঁয়াজ (দেশী) + পিঁয়াজ (নতুন/পুরাতন) (দেশী) (completely disjoint dates)\n",
      "✅ CAN MERGE: পিঁয়াজ (নতুন) (দেশী) + পিঁয়াজ (নতুন/পুরাতন) (দেশী) (completely disjoint dates)\n",
      "\n",
      "============================================================\n",
      "ANALYZING MERGE POSSIBILITIES: POTATO\n",
      "============================================================\n",
      "আলু (মানভেদে): 882 unique dates from 2021-05-17 to 2025-10-13\n",
      "আলু (নতুন, মানভেদে): 106 unique dates from 2024-01-25 to 2024-05-25\n",
      "আলু (নতুন/পুরাতন)(মানভেদে): 41 unique dates from 2023-12-12 to 2024-01-24\n",
      "✅ CAN MERGE: আলু (মানভেদে) + আলু (নতুন, মানভেদে) (completely disjoint dates)\n",
      "✅ CAN MERGE: আলু (মানভেদে) + আলু (নতুন/পুরাতন)(মানভেদে) (completely disjoint dates)\n",
      "✅ CAN MERGE: আলু (নতুন, মানভেদে) + আলু (নতুন/পুরাতন)(মানভেদে) (completely disjoint dates)\n",
      "\n",
      "============================================================\n",
      "ANALYZING MERGE POSSIBILITIES: LENTILS_MEDIUM\n",
      "============================================================\n",
      "মশুর ডাল (মাঝারী দানা): 107 unique dates from 2025-06-23 to 2025-10-13\n",
      "মশূর ডাল (মাঝারী দানা): 922 unique dates from 2021-05-17 to 2025-06-22\n",
      "✅ CAN MERGE: মশুর ডাল (মাঝারী দানা) + মশূর ডাল (মাঝারী দানা) (completely disjoint dates)\n",
      "\n",
      "============================================================\n",
      "ANALYZING MERGE POSSIBILITIES: SALT\n",
      "============================================================\n",
      "লবণ(প্যাঃ)আয়োডিনযুক্ত: 192 unique dates from 2025-03-09 to 2025-10-13\n",
      "লবণ(প্যাঃ)আয়োডিনযুক্ত(মানভেদে): 837 unique dates from 2021-05-17 to 2025-02-20\n",
      "✅ CAN MERGE: লবণ(প্যাঃ)আয়োডিনযুক্ত + লবণ(প্যাঃ)আয়োডিনযুক্ত(মানভেদে) (completely disjoint dates)\n",
      "\n",
      "============================================================\n",
      "ANALYZING MERGE POSSIBILITIES: PALM_OIL_SUPER\n",
      "============================================================\n",
      "পাম অয়েল (সুপার): 829 unique dates from 2021-05-17 to 2025-01-21\n",
      "সুপার পাম অয়েল (লুজ): 200 unique dates from 2025-01-22 to 2025-10-13\n",
      "✅ CAN MERGE: পাম অয়েল (সুপার) + সুপার পাম অয়েল (লুজ) (completely disjoint dates)\n",
      "\n",
      "============================================================\n",
      "ANALYZING MERGE POSSIBILITIES: SOYBEAN_OIL_BOTTLE\n",
      "============================================================\n",
      "সয়াবিন তেল (বোতল): 1029 unique dates from 2021-05-17 to 2025-10-13\n",
      "\n",
      "============================================================\n",
      "ANALYZING MERGE POSSIBILITIES: CHICKEN_BROILER\n",
      "============================================================\n",
      "মুরগী(ব্রয়লার): 1029 unique dates from 2021-05-17 to 2025-10-13\n",
      "\n",
      "============================================================\n",
      "ANALYZING MERGE POSSIBILITIES: CHICKEN_LOCAL\n",
      "============================================================\n",
      "মুরগী (দেশী): 1029 unique dates from 2021-05-17 to 2025-10-13\n",
      "\n",
      "============================================================\n",
      "ANALYZING MERGE POSSIBILITIES: MS_ROD\n",
      "============================================================\n",
      "এম,এস রড (৬০ গ্রেড): 1029 unique dates from 2021-05-17 to 2025-10-13\n",
      "এম,এস রড( ৪০ গ্রেড): 1029 unique dates from 2021-05-17 to 2025-10-13\n"
     ]
    }
   ],
   "source": [
    "def analyze_merge_possibilities_exact_dates(df):\n",
    "    \n",
    "    item_groups = {\n",
    "        'rice': ['চাল (মাঝারী)পাইজাম/লতা', 'চাল (মাঝারী)পাইজাম/আটাশ'],\n",
    "        'garlic_local': ['রসুন (দেশী)', 'রসুন(দেশী)', 'রসুন(দেশী) নতুন/পুরাতন)', 'রসুন(দেশী) নতুন', 'রসুন (দেশী) নতুন/পুরাতন', 'রসুন(দেশী) নতুন/পুরাতন', 'রসুন(দেশী) পুরাতন'],\n",
    "        'ginger_local': ['আদা (দেশী)', 'আদা (দেশী)(নতুন)', 'আদা (দেশী) নতুন'],\n",
    "        'onion_local': ['পিঁয়াজ (দেশী)', 'পিঁয়াজ (নতুন) (দেশী)', 'পিঁয়াজ (নতুন/পুরাতন) (দেশী)'],\n",
    "        'potato': ['আলু (মানভেদে)', 'আলু (নতুন, মানভেদে)', 'আলু (নতুন/পুরাতন)(মানভেদে)'],\n",
    "        'lentils_medium': ['মশুর ডাল (মাঝারী দানা)', 'মশূর ডাল (মাঝারী দানা)'],\n",
    "        'salt': ['লবণ(প্যাঃ)আয়োডিনযুক্ত', 'লবণ(প্যাঃ)আয়োডিনযুক্ত(মানভেদে)'],\n",
    "        'palm_oil_super': ['পাম অয়েল (সুপার)', 'সুপার পাম অয়েল (লুজ)'],\n",
    "        'soybean_oil_bottle': ['সয়াবিন তেল (বোতল)'],  # Could merge different sizes if they exist\n",
    "        'chicken_broiler': ['মুরগী(ব্রয়লার)'],  # Standardize naming\n",
    "        'chicken_local': ['মুরগী (দেশী)'],  # Standardize naming\n",
    "        'ms_rod': ['এম,এস রড (৬০ গ্রেড)', 'এম,এস রড( ৪০ গ্রেড)']  # Different grades but same product type\n",
    "    }\n",
    "    \n",
    "    merge_suggestions = {}\n",
    "    \n",
    "    for group_name, items in item_groups.items():\n",
    "        print(f\"\\n{'='*60}\")\n",
    "        print(f\"ANALYZING MERGE POSSIBILITIES: {group_name.upper()}\")\n",
    "        print(f\"{'='*60}\")\n",
    "        \n",
    "        date_sets = {}\n",
    "        for item in items:\n",
    "            if item in df['item'].values:\n",
    "                unique_dates = set(df[df['item'] == item]['date'].dt.date)\n",
    "                date_sets[item] = unique_dates\n",
    "                print(f\"{item}: {len(unique_dates)} unique dates from {min(unique_dates)} to {max(unique_dates)}\")\n",
    "        \n",
    "        items_list = list(date_sets.keys())\n",
    "        possible_merges = []\n",
    "        \n",
    "        for i in range(len(items_list)):\n",
    "            for j in range(i + 1, len(items_list)):\n",
    "                item1, item2 = items_list[i], items_list[j]\n",
    "                set1 = date_sets[item1]\n",
    "                set2 = date_sets[item2]\n",
    "                \n",
    "                are_disjoint = set1.isdisjoint(set2)\n",
    "                \n",
    "                if are_disjoint:\n",
    "                    possible_merges.append((item1, item2))\n",
    "                    print(f\"✅ CAN MERGE: {item1} + {item2} (completely disjoint dates)\")\n",
    "                else:\n",
    "                    overlap_dates = set1.intersection(set2)\n",
    "        \n",
    "        merge_suggestions[group_name] = possible_merges\n",
    "    \n",
    "    return merge_suggestions\n",
    "\n",
    "merge_analysis = analyze_merge_possibilities_exact_dates(df)"
   ]
  },
  {
   "cell_type": "code",
   "execution_count": null,
   "id": "5be5fb29",
   "metadata": {},
   "outputs": [
    {
     "name": "stdout",
     "output_type": "stream",
     "text": [
      "Applying safe merging based on disjoint date analysis...\n",
      "Total merge rules: 16\n",
      "Reduced from 16 to 53 unique items\n",
      "Items merged successfully!\n"
     ]
    }
   ],
   "source": [
    "def create_safe_merge_map():\n",
    "    merge_rules = {\n",
    "        'চাল (মাঝারী)পাইজাম/আটাশ': 'চাল (মাঝারী)পাইজাম/লতা',\n",
    "        \n",
    "        'রসুন(দেশী)': 'রসুন (দেশী)',\n",
    "        'রসুন(দেশী) নতুন/পুরাতন)': 'রসুন (দেশী)',\n",
    "        'রসুন(দেশী) নতুন': 'রসুন (দেশী)',\n",
    "        'রসুন (দেশী) নতুন/পুরাতন': 'রসুন (দেশী)',\n",
    "        'রসুন(দেশী) নতুন/পুরাতন': 'রসুন (দেশী)',\n",
    "        'রসুন(দেশী) পুরাতন': 'রসুন (দেশী)',\n",
    "        \n",
    "        'আদা (দেশী)(নতুন)': 'আদা (দেশী)',\n",
    "        'আদা (দেশী) নতুন': 'আদা (দেশী)',\n",
    "        \n",
    "        'পিঁয়াজ (নতুন) (দেশী)': 'পিঁয়াজ (দেশী)',\n",
    "        'পিঁয়াজ (নতুন/পুরাতন) (দেশী)': 'পিঁয়াজ (দেশী)',\n",
    "        \n",
    "        'আলু (নতুন, মানভেদে)': 'আলু (মানভেদে)',\n",
    "        'আলু (নতুন/পুরাতন)(মানভেদে)': 'আলু (মানভেদে)',\n",
    "        \n",
    "        'মশুর ডাল (মাঝারী দানা)': 'মশূর ডাল (মাঝারী দানা)',\n",
    "        \n",
    "        'লবণ(প্যাঃ)আয়োডিনযুক্ত': 'লবণ(প্যাঃ)আয়োডিনযুক্ত(মানভেদে)',\n",
    "        \n",
    "        'সুপার পাম অয়েল (লুজ)': 'পাম অয়েল (সুপার)',\n",
    "        \n",
    "    }\n",
    "    \n",
    "    return merge_rules\n",
    "\n",
    "def apply_safe_merging(df):\n",
    "    merge_rules = create_safe_merge_map()\n",
    "    \n",
    "    print(\"Applying safe merging based on disjoint date analysis...\")\n",
    "    print(f\"Total merge rules: {len(merge_rules)}\")\n",
    "    \n",
    "    df['item'] = df['item'].replace(merge_rules)\n",
    "    \n",
    "    original_item_count = len(set(merge_rules.keys()))\n",
    "    new_item_count = len(df['item'].unique())\n",
    "    \n",
    "    print(f\"Reduced from {original_item_count} to {new_item_count} unique items\")\n",
    "    print(f\"Items merged successfully!\")\n",
    "    \n",
    "    return df\n",
    "\n",
    "df_merged = apply_safe_merging(df)"
   ]
  },
  {
   "cell_type": "code",
   "execution_count": 141,
   "id": "7907a655",
   "metadata": {},
   "outputs": [
    {
     "data": {
      "text/html": [
       "<pre style=\"white-space:pre;overflow-x:auto;line-height:normal;font-family:Menlo,'DejaVu Sans Mono',consolas,'Courier New',monospace\"></pre>\n"
      ],
      "text/plain": []
     },
     "metadata": {},
     "output_type": "display_data"
    },
    {
     "data": {
      "text/plain": [
       "\n",
       "item\n",
       "সয়াবিন তেল \u001b[1m(\u001b[0mবোতল\u001b[1m)\u001b[0m                 \u001b[1;36m2392\u001b[0m\n",
       "চাল \u001b[1m(\u001b[0mমাঝারী\u001b[1m)\u001b[0mপাইজাম/লতা            \u001b[1;36m1029\u001b[0m\n",
       "চাল \u001b[1m(\u001b[0mমোটা\u001b[1m)\u001b[0m\u001b[35m/\u001b[0m\u001b[95mস\u001b[0m্বর্ণা\u001b[35m/\u001b[0m\u001b[95mচ\u001b[0mায়না ইরি      \u001b[1;36m1029\u001b[0m\n",
       "আটা সাদা \u001b[1m(\u001b[0mখোলা\u001b[1m)\u001b[0m                   \u001b[1;36m1029\u001b[0m\n",
       "চাল সরু \u001b[1m(\u001b[0mনাজির/মিনিকেট\u001b[1m)\u001b[0m           \u001b[1;36m1029\u001b[0m\n",
       "আটা \u001b[1m(\u001b[0mপ্যাকেট\u001b[1m)\u001b[0m                     \u001b[1;36m1029\u001b[0m\n",
       "ময়দা \u001b[1m(\u001b[0mখোলা\u001b[1m)\u001b[0m                       \u001b[1;36m1029\u001b[0m\n",
       "ময়দা \u001b[1m(\u001b[0mপ্যাকেট\u001b[1m)\u001b[0m                    \u001b[1;36m1029\u001b[0m\n",
       "পাম অয়েল \u001b[1m(\u001b[0mলুজ\u001b[1m)\u001b[0m                    \u001b[1;36m1029\u001b[0m\n",
       "মশুর ডাল \u001b[1m(\u001b[0mবড় দানা\u001b[1m)\u001b[0m                \u001b[1;36m1029\u001b[0m\n",
       "পাম অয়েল \u001b[1m(\u001b[0mসুপার\u001b[1m)\u001b[0m                  \u001b[1;36m1029\u001b[0m\n",
       "মশুর ডাল \u001b[1m(\u001b[0mছোট দানা\u001b[1m)\u001b[0m               \u001b[1;36m1029\u001b[0m\n",
       "মশূর ডাল \u001b[1m(\u001b[0mমাঝারী দানা\u001b[1m)\u001b[0m            \u001b[1;36m1029\u001b[0m\n",
       "ছোলা \u001b[1m(\u001b[0mমানভেদে\u001b[1m)\u001b[0m                    \u001b[1;36m1029\u001b[0m\n",
       "আলু \u001b[1m(\u001b[0mমানভেদে\u001b[1m)\u001b[0m                     \u001b[1;36m1029\u001b[0m\n",
       "মুগ ডাল \u001b[1m(\u001b[0mমানভেদে\u001b[1m)\u001b[0m                 \u001b[1;36m1029\u001b[0m\n",
       "এ্যাংকর ডাল                       \u001b[1;36m1029\u001b[0m\n",
       "পিঁয়াজ \u001b[1m(\u001b[0mদেশী\u001b[1m)\u001b[0m                     \u001b[1;36m1029\u001b[0m\n",
       "পিঁয়াজ \u001b[1m(\u001b[0mআমদানি\u001b[1m)\u001b[0m                   \u001b[1;36m1029\u001b[0m\n",
       "রসুন \u001b[1m(\u001b[0mআমদানি\u001b[1m)\u001b[0m                     \u001b[1;36m1029\u001b[0m\n",
       "রসুন \u001b[1m(\u001b[0mদেশী\u001b[1m)\u001b[0m                       \u001b[1;36m1029\u001b[0m\n",
       "গরু                               \u001b[1;36m1029\u001b[0m\n",
       "খাসী                              \u001b[1;36m1029\u001b[0m\n",
       "শুকনা মরিচ \u001b[1m(\u001b[0mদেশী\u001b[1m)\u001b[0m                 \u001b[1;36m1029\u001b[0m\n",
       "শুকনা মরিচ \u001b[1m(\u001b[0mআমদানি\u001b[1m)\u001b[0m               \u001b[1;36m1029\u001b[0m\n",
       "হলুদ \u001b[1m(\u001b[0mদেশী\u001b[1m)\u001b[0m                       \u001b[1;36m1029\u001b[0m\n",
       "হলুদ \u001b[1m(\u001b[0mআমদানি\u001b[1m)\u001b[0m                     \u001b[1;36m1029\u001b[0m\n",
       "আদা \u001b[1m(\u001b[0mদেশী\u001b[1m)\u001b[0m                        \u001b[1;36m1029\u001b[0m\n",
       "আদা \u001b[1m(\u001b[0mআমদানি\u001b[1m)\u001b[0m                      \u001b[1;36m1029\u001b[0m\n",
       "জিরা                              \u001b[1;36m1029\u001b[0m\n",
       "দারুচিনি                          \u001b[1;36m1029\u001b[0m\n",
       "লবঙ্গ                             \u001b[1;36m1029\u001b[0m\n",
       "এলা\u001b[1;35mচ\u001b[0m\u001b[1m(\u001b[0mছোট\u001b[1m)\u001b[0m                        \u001b[1;36m1029\u001b[0m\n",
       "ধনে                               \u001b[1;36m1029\u001b[0m\n",
       "তেজপাতা                           \u001b[1;36m1029\u001b[0m\n",
       "রুই                               \u001b[1;36m1029\u001b[0m\n",
       "ইলিশ                              \u001b[1;36m1029\u001b[0m\n",
       "চিনি                              \u001b[1;36m1029\u001b[0m\n",
       "খেজু\u001b[1;35mর\u001b[0m\u001b[1m(\u001b[0mসাধারণ মানের\u001b[1m)\u001b[0m               \u001b[1;36m1029\u001b[0m\n",
       "মুরগী\u001b[1m(\u001b[0mব্রয়লার\u001b[1m)\u001b[0m                    \u001b[1;36m1029\u001b[0m\n",
       "মুরগী \u001b[1m(\u001b[0mদেশী\u001b[1m)\u001b[0m                      \u001b[1;36m1029\u001b[0m\n",
       "ডানো                              \u001b[1;36m1029\u001b[0m\n",
       "ডিপ্লোমা \u001b[1m(\u001b[0mনিউজিল্যান্ড\u001b[1m)\u001b[0m           \u001b[1;36m1029\u001b[0m\n",
       "ফ্রেশ                             \u001b[1;36m1029\u001b[0m\n",
       "মার্কস                            \u001b[1;36m1029\u001b[0m\n",
       "লেখার কা\u001b[1;35mগজ\u001b[0m\u001b[1m(\u001b[0mসাদা\u001b[1m)\u001b[0m                  \u001b[1;36m1029\u001b[0m\n",
       "এম,এস রড \u001b[1m(\u001b[0m৬০ গ্রেড\u001b[1m)\u001b[0m               \u001b[1;36m1029\u001b[0m\n",
       "\u001b[1;35mলবণ\u001b[0m\u001b[1m(\u001b[0mপ্যাঃ\u001b[1m)\u001b[0mআয়োডিনযুক্\u001b[1;35mত\u001b[0m\u001b[1m(\u001b[0mমানভেদে\u001b[1m)\u001b[0m    \u001b[1;36m1029\u001b[0m\n",
       "ডিম \u001b[1m(\u001b[0mফার্ম\u001b[1m)\u001b[0m                       \u001b[1;36m1029\u001b[0m\n",
       "এম,এস \u001b[1;35mরড\u001b[0m\u001b[1m(\u001b[0m ৪০ গ্রেড\u001b[1m)\u001b[0m               \u001b[1;36m1029\u001b[0m\n",
       "সয়াবিন তেল \u001b[1m(\u001b[0mলুজ\u001b[1m)\u001b[0m                  \u001b[1;36m1027\u001b[0m\n",
       "রাইস ব্রান তেল \u001b[1m(\u001b[0mবোতল\u001b[1m)\u001b[0m              \u001b[1;36m753\u001b[0m\n",
       "পাম অলিন \u001b[1m(\u001b[0mবোতল\u001b[1m)\u001b[0m                     \u001b[1;36m72\u001b[0m\n",
       "Name: count, dtype: int64"
      ]
     },
     "execution_count": 141,
     "metadata": {},
     "output_type": "execute_result"
    }
   ],
   "source": [
    "cnt = df['item'].value_counts()\n",
    "cnt"
   ]
  },
  {
   "cell_type": "code",
   "execution_count": 142,
   "id": "820d6dff",
   "metadata": {},
   "outputs": [
    {
     "name": "stdout",
     "output_type": "stream",
     "text": [
      "\n",
      "=== FILTERING RESULTS ===\n",
      "Removed 825 records from 2 items\n",
      "Remaining items: 51\n",
      "Remaining records: 53840\n"
     ]
    }
   ],
   "source": [
    "def remove_items_with_few_days(df, min_days=1000):\n",
    "    df_temp = df.copy()\n",
    "    df_temp['date'] = pd.to_datetime(df_temp['date']).dt.date\n",
    "    \n",
    "    item_day_counts = df_temp.groupby('item')['date'].nunique()\n",
    "    \n",
    "    items_to_keep = item_day_counts[item_day_counts >= min_days].index\n",
    "    df_filtered = df[df['item'].isin(items_to_keep)].copy()\n",
    "    \n",
    "    removed_count = len(df) - len(df_filtered)\n",
    "    removed_items = set(df['item'].unique()) - set(items_to_keep)\n",
    "    \n",
    "    print(f\"\\n=== FILTERING RESULTS ===\")\n",
    "    print(f\"Removed {removed_count} records from {len(removed_items)} items\")\n",
    "    print(f\"Remaining items: {len(items_to_keep)}\")\n",
    "    print(f\"Remaining records: {len(df_filtered)}\")\n",
    "    \n",
    "    return df_filtered\n",
    "\n",
    "df_cleaned = remove_items_with_few_days(df, min_days=1000)"
   ]
  },
  {
   "cell_type": "code",
   "execution_count": null,
   "id": "11f578ba",
   "metadata": {},
   "outputs": [],
   "source": []
  }
 ],
 "metadata": {
  "kernelspec": {
   "display_name": "commodity_price_forecasting",
   "language": "python",
   "name": "python3"
  },
  "language_info": {
   "codemirror_mode": {
    "name": "ipython",
    "version": 3
   },
   "file_extension": ".py",
   "mimetype": "text/x-python",
   "name": "python",
   "nbconvert_exporter": "python",
   "pygments_lexer": "ipython3",
   "version": "3.11.13"
  }
 },
 "nbformat": 4,
 "nbformat_minor": 5
}
