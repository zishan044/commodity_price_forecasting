{
 "cells": [
  {
   "cell_type": "code",
   "execution_count": 199,
   "id": "c1dca305",
   "metadata": {},
   "outputs": [
    {
     "name": "stdout",
     "output_type": "stream",
     "text": [
      "The kedro extension is already loaded. To reload it, use:\n",
      "  %reload_ext kedro\n"
     ]
    }
   ],
   "source": [
    "%load_ext kedro"
   ]
  },
  {
   "cell_type": "code",
   "execution_count": 200,
   "id": "90b90803",
   "metadata": {},
   "outputs": [
    {
     "data": {
      "text/html": [
       "<pre style=\"white-space:pre;overflow-x:auto;line-height:normal;font-family:Menlo,'DejaVu Sans Mono',consolas,'Courier New',monospace\"><span style=\"color: #7fbfbf; text-decoration-color: #7fbfbf\">[10/15/25 00:57:55] </span><span style=\"color: #000080; text-decoration-color: #000080\">INFO    </span> Loading data from <span style=\"color: #ff8700; text-decoration-color: #ff8700\">raw_data</span> <span style=\"font-weight: bold\">(</span>ParquetDataset<span style=\"font-weight: bold\">)</span><span style=\"color: #808000; text-decoration-color: #808000\">...</span>                    <a href=\"file:///home/zishan/anaconda3/envs/commodity_price_forecasting/lib/python3.11/site-packages/kedro/io/data_catalog.py\" target=\"_blank\"><span style=\"color: #7f7f7f; text-decoration-color: #7f7f7f\">data_catalog.py</span></a><span style=\"color: #7f7f7f; text-decoration-color: #7f7f7f\">:</span><a href=\"file:///home/zishan/anaconda3/envs/commodity_price_forecasting/lib/python3.11/site-packages/kedro/io/data_catalog.py#1046\" target=\"_blank\"><span style=\"color: #7f7f7f; text-decoration-color: #7f7f7f\">1046</span></a>\n",
       "</pre>\n"
      ],
      "text/plain": [
       "\u001b[2;36m[10/15/25 00:57:55]\u001b[0m\u001b[2;36m \u001b[0m\u001b[34mINFO    \u001b[0m Loading data from \u001b[38;5;208mraw_data\u001b[0m \u001b[1m(\u001b[0mParquetDataset\u001b[1m)\u001b[0m\u001b[33m...\u001b[0m                    \u001b]8;id=806271;file:///home/zishan/anaconda3/envs/commodity_price_forecasting/lib/python3.11/site-packages/kedro/io/data_catalog.py\u001b\\\u001b[2mdata_catalog.py\u001b[0m\u001b]8;;\u001b\\\u001b[2m:\u001b[0m\u001b]8;id=506255;file:///home/zishan/anaconda3/envs/commodity_price_forecasting/lib/python3.11/site-packages/kedro/io/data_catalog.py#1046\u001b\\\u001b[2m1046\u001b[0m\u001b]8;;\u001b\\\n"
      ]
     },
     "metadata": {},
     "output_type": "display_data"
    },
    {
     "name": "stdout",
     "output_type": "stream",
     "text": [
      "<class 'pandas.core.frame.DataFrame'>\n",
      "RangeIndex: 55043 entries, 0 to 55042\n",
      "Data columns (total 6 columns):\n",
      " #   Column      Non-Null Count  Dtype \n",
      "---  ------      --------------  ----- \n",
      " 0   date        55043 non-null  object\n",
      " 1   category    55043 non-null  object\n",
      " 2   item        55043 non-null  object\n",
      " 3   unit        55043 non-null  object\n",
      " 4   low_price   55043 non-null  object\n",
      " 5   high_price  55043 non-null  object\n",
      "dtypes: object(6)\n",
      "memory usage: 2.5+ MB\n"
     ]
    }
   ],
   "source": [
    "df = catalog.load('raw_data')\n",
    "df.info()"
   ]
  },
  {
   "cell_type": "code",
   "execution_count": 201,
   "id": "b4113ddb",
   "metadata": {},
   "outputs": [],
   "source": [
    "import pandas as pd"
   ]
  },
  {
   "cell_type": "code",
   "execution_count": 202,
   "id": "15b5373e",
   "metadata": {},
   "outputs": [],
   "source": [
    "df['date'] = pd.to_datetime(df['date'])"
   ]
  },
  {
   "cell_type": "code",
   "execution_count": 203,
   "id": "94eddec2",
   "metadata": {},
   "outputs": [
    {
     "name": "stdout",
     "output_type": "stream",
     "text": [
      "\n",
      "=== CHECKING low_price ===\n",
      "Non-numeric values found in low_price:\n",
      "['বাজারে পাওয়া']\n",
      "Count: 1\n",
      "\n",
      "=== CHECKING high_price ===\n",
      "Non-numeric values found in high_price:\n",
      "['যায়নি']\n",
      "Count: 1\n"
     ]
    }
   ],
   "source": [
    "\n",
    "numeric_cols = ['low_price', 'high_price']\n",
    "\n",
    "for col in numeric_cols:\n",
    "    print(f\"\\n=== CHECKING {col} ===\")\n",
    "    \n",
    "    numeric_series = pd.to_numeric(df[col], errors='coerce')\n",
    "    non_numeric_mask = numeric_series.isna() & df[col].notna()\n",
    "    \n",
    "    if non_numeric_mask.any():\n",
    "        print(f\"Non-numeric values found in {col}:\")\n",
    "        non_numeric_values = df.loc[non_numeric_mask, col].unique()\n",
    "        print(non_numeric_values)\n",
    "        print(f\"Count: {non_numeric_mask.sum()}\")\n",
    "    else:\n",
    "        print(f\"All values in {col} are numeric!\")\n"
   ]
  },
  {
   "cell_type": "code",
   "execution_count": 204,
   "id": "ad5b36a0",
   "metadata": {},
   "outputs": [
    {
     "data": {
      "text/html": [
       "<pre style=\"white-space:pre;overflow-x:auto;line-height:normal;font-family:Menlo,'DejaVu Sans Mono',consolas,'Courier New',monospace\"></pre>\n"
      ],
      "text/plain": []
     },
     "metadata": {},
     "output_type": "display_data"
    },
    {
     "data": {
      "text/plain": [
       "\n",
       "\u001b[1;36m42669\u001b[0m    বাজারে পাওয়া\n",
       "Name: low_price, dtype: object"
      ]
     },
     "execution_count": 204,
     "metadata": {},
     "output_type": "execute_result"
    }
   ],
   "source": [
    "df.loc[df['low_price'] == 'বাজারে পাওয়া', 'low_price']"
   ]
  },
  {
   "cell_type": "code",
   "execution_count": 205,
   "id": "3428ba68",
   "metadata": {},
   "outputs": [
    {
     "data": {
      "text/html": [
       "<pre style=\"white-space:pre;overflow-x:auto;line-height:normal;font-family:Menlo,'DejaVu Sans Mono',consolas,'Courier New',monospace\"></pre>\n"
      ],
      "text/plain": []
     },
     "metadata": {},
     "output_type": "display_data"
    },
    {
     "data": {
      "text/plain": [
       "\n",
       "\u001b[1;36m42669\u001b[0m    যায়নি\n",
       "Name: high_price, dtype: object"
      ]
     },
     "execution_count": 205,
     "metadata": {},
     "output_type": "execute_result"
    }
   ],
   "source": [
    "df.loc[df['high_price'] == 'যায়নি', 'high_price']"
   ]
  },
  {
   "cell_type": "markdown",
   "id": "a5723ed6",
   "metadata": {},
   "source": [
    "**there seems to be one row with non numeric column. possible typo**"
   ]
  },
  {
   "cell_type": "code",
   "execution_count": 206,
   "id": "1d3838a9",
   "metadata": {},
   "outputs": [],
   "source": [
    "df['low_price'] = pd.to_numeric(df['low_price'], errors='coerce')\n",
    "df['high_price'] = pd.to_numeric(df['high_price'], errors='coerce')"
   ]
  },
  {
   "cell_type": "code",
   "execution_count": 207,
   "id": "e7ec12cb",
   "metadata": {},
   "outputs": [
    {
     "data": {
      "text/html": [
       "<pre style=\"white-space:pre;overflow-x:auto;line-height:normal;font-family:Menlo,'DejaVu Sans Mono',consolas,'Courier New',monospace\"></pre>\n"
      ],
      "text/plain": []
     },
     "metadata": {},
     "output_type": "display_data"
    },
    {
     "data": {
      "text/plain": [
       "\n",
       "unit\n",
       "প্রতি কেজি          \u001b[1;36m38330\u001b[0m\n",
       "১ কেজি               \u001b[1;36m4144\u001b[0m\n",
       "প্রতি লিটার          \u001b[1;36m3106\u001b[0m\n",
       "প্রতি কেজি প্যাঃ     \u001b[1;36m2072\u001b[0m\n",
       "প্রতি মেঃটন          \u001b[1;36m2072\u001b[0m\n",
       "৫ লিটার              \u001b[1;36m1502\u001b[0m\n",
       "১ লিটার              \u001b[1;36m1368\u001b[0m\n",
       "প্রতি দিস্তা         \u001b[1;36m1036\u001b[0m\n",
       "প্রতি হালি           \u001b[1;36m1036\u001b[0m\n",
       "\u001b[1;36m2\u001b[0m লিটার               \u001b[1;36m375\u001b[0m\n",
       "\u001b[1;36m50.00\u001b[0m-\u001b[1;36m52.00\u001b[0m             \u001b[1;36m2\u001b[0m\n",
       "Name: count, dtype: int64"
      ]
     },
     "execution_count": 207,
     "metadata": {},
     "output_type": "execute_result"
    }
   ],
   "source": [
    "df['unit'].value_counts()"
   ]
  },
  {
   "cell_type": "code",
   "execution_count": 208,
   "id": "6860563f",
   "metadata": {},
   "outputs": [
    {
     "data": {
      "text/html": [
       "<pre style=\"white-space:pre;overflow-x:auto;line-height:normal;font-family:Menlo,'DejaVu Sans Mono',consolas,'Courier New',monospace\"></pre>\n"
      ],
      "text/plain": []
     },
     "metadata": {},
     "output_type": "display_data"
    },
    {
     "data": {
      "text/html": [
       "<div>\n",
       "<style scoped>\n",
       "    .dataframe tbody tr th:only-of-type {\n",
       "        vertical-align: middle;\n",
       "    }\n",
       "\n",
       "    .dataframe tbody tr th {\n",
       "        vertical-align: top;\n",
       "    }\n",
       "\n",
       "    .dataframe thead th {\n",
       "        text-align: right;\n",
       "    }\n",
       "</style>\n",
       "<table border=\"1\" class=\"dataframe\">\n",
       "  <thead>\n",
       "    <tr style=\"text-align: right;\">\n",
       "      <th></th>\n",
       "      <th>date</th>\n",
       "      <th>category</th>\n",
       "      <th>item</th>\n",
       "      <th>unit</th>\n",
       "      <th>low_price</th>\n",
       "      <th>high_price</th>\n",
       "    </tr>\n",
       "  </thead>\n",
       "  <tbody>\n",
       "    <tr>\n",
       "      <th>5664</th>\n",
       "      <td>2023-11-13</td>\n",
       "      <td>মসলাঃ</td>\n",
       "      <td>তেজপাতা</td>\n",
       "      <td>50.00-52.00</td>\n",
       "      <td>150.0</td>\n",
       "      <td>200.0</td>\n",
       "    </tr>\n",
       "    <tr>\n",
       "      <th>41850</th>\n",
       "      <td>2023-11-15</td>\n",
       "      <td>মসলাঃ</td>\n",
       "      <td>তেজপাতা</td>\n",
       "      <td>50.00-52.00</td>\n",
       "      <td>150.0</td>\n",
       "      <td>200.0</td>\n",
       "    </tr>\n",
       "  </tbody>\n",
       "</table>\n",
       "</div>"
      ],
      "text/plain": [
       "\n",
       "            date category     item         unit  low_price  high_price\n",
       "\u001b[1;36m5664\u001b[0m  \u001b[1;36m2023\u001b[0m-\u001b[1;36m11\u001b[0m-\u001b[1;36m13\u001b[0m    মসলাঃ  তেজপাতা  \u001b[1;36m50.00\u001b[0m-\u001b[1;36m52.00\u001b[0m      \u001b[1;36m150.0\u001b[0m       \u001b[1;36m200.0\u001b[0m\n",
       "\u001b[1;36m41850\u001b[0m \u001b[1;36m2023\u001b[0m-\u001b[1;36m11\u001b[0m-\u001b[1;36m15\u001b[0m    মসলাঃ  তেজপাতা  \u001b[1;36m50.00\u001b[0m-\u001b[1;36m52.00\u001b[0m      \u001b[1;36m150.0\u001b[0m       \u001b[1;36m200.0\u001b[0m"
      ]
     },
     "execution_count": 208,
     "metadata": {},
     "output_type": "execute_result"
    }
   ],
   "source": [
    "df[df['unit'] == '50.00-52.00']"
   ]
  },
  {
   "cell_type": "markdown",
   "id": "09529b07",
   "metadata": {},
   "source": [
    "**some units seem to have been mislabeled. ahve to fill them with proper unit for the item.**"
   ]
  },
  {
   "cell_type": "code",
   "execution_count": 209,
   "id": "00df0624",
   "metadata": {},
   "outputs": [
    {
     "data": {
      "text/html": [
       "<pre style=\"white-space:pre;overflow-x:auto;line-height:normal;font-family:Menlo,'DejaVu Sans Mono',consolas,'Courier New',monospace\"></pre>\n"
      ],
      "text/plain": []
     },
     "metadata": {},
     "output_type": "display_data"
    },
    {
     "data": {
      "text/plain": [
       "\n",
       "\u001b[1;36m36\u001b[0m       প্রতি কেজি\n",
       "\u001b[1;36m91\u001b[0m       প্রতি কেজি\n",
       "\u001b[1;36m146\u001b[0m      প্রতি কেজি\n",
       "\u001b[1;36m198\u001b[0m      প্রতি কেজি\n",
       "\u001b[1;36m255\u001b[0m      প্রতি কেজি\n",
       "            \u001b[33m...\u001b[0m    \n",
       "\u001b[1;36m54811\u001b[0m    প্রতি কেজি\n",
       "\u001b[1;36m54865\u001b[0m    প্রতি কেজি\n",
       "\u001b[1;36m54917\u001b[0m    প্রতি কেজি\n",
       "\u001b[1;36m54971\u001b[0m    প্রতি কেজি\n",
       "\u001b[1;36m55025\u001b[0m    প্রতি কেজি\n",
       "Name: unit, Length: \u001b[1;36m1036\u001b[0m, dtype: object"
      ]
     },
     "execution_count": 209,
     "metadata": {},
     "output_type": "execute_result"
    }
   ],
   "source": [
    "df[df['item'] == 'তেজপাতা']['unit']"
   ]
  },
  {
   "cell_type": "code",
   "execution_count": 210,
   "id": "803bf6fe",
   "metadata": {},
   "outputs": [
    {
     "data": {
      "text/html": [
       "<pre style=\"white-space:pre;overflow-x:auto;line-height:normal;font-family:Menlo,'DejaVu Sans Mono',consolas,'Courier New',monospace\"><span style=\"color: #7fbfbf; text-decoration-color: #7fbfbf\">                    </span><span style=\"color: #808000; text-decoration-color: #808000\">WARNING </span> <span style=\"color: #800080; text-decoration-color: #800080\">/tmp/ipykernel_18497/</span><span style=\"color: #ff00ff; text-decoration-color: #ff00ff\">905726389.py</span>:<span style=\"color: #008080; text-decoration-color: #008080; font-weight: bold\">1</span>: SettingWithCopyWarning:           <a href=\"file:///home/zishan/anaconda3/envs/commodity_price_forecasting/lib/python3.11/warnings.py\" target=\"_blank\"><span style=\"color: #7f7f7f; text-decoration-color: #7f7f7f\">warnings.py</span></a><span style=\"color: #7f7f7f; text-decoration-color: #7f7f7f\">:</span><a href=\"file:///home/zishan/anaconda3/envs/commodity_price_forecasting/lib/python3.11/warnings.py#110\" target=\"_blank\"><span style=\"color: #7f7f7f; text-decoration-color: #7f7f7f\">110</span></a>\n",
       "<span style=\"color: #7fbfbf; text-decoration-color: #7fbfbf\">                    </span>         A value is trying to be set on a copy of a slice from a DataFrame.     <span style=\"color: #7f7f7f; text-decoration-color: #7f7f7f\">               </span>\n",
       "<span style=\"color: #7fbfbf; text-decoration-color: #7fbfbf\">                    </span>         Try using .loc = value instead                                         <span style=\"color: #7f7f7f; text-decoration-color: #7f7f7f\">               </span>\n",
       "<span style=\"color: #7fbfbf; text-decoration-color: #7fbfbf\">                    </span>                                                                                <span style=\"color: #7f7f7f; text-decoration-color: #7f7f7f\">               </span>\n",
       "<span style=\"color: #7fbfbf; text-decoration-color: #7fbfbf\">                    </span>         See the caveats in the documentation:                                  <span style=\"color: #7f7f7f; text-decoration-color: #7f7f7f\">               </span>\n",
       "<span style=\"color: #7fbfbf; text-decoration-color: #7fbfbf\">                    </span>         <span style=\"color: #0000ff; text-decoration-color: #0000ff; text-decoration: underline\">https://pandas.pydata.org/pandas-docs/stable/user_guide/indexing.html#</span> <span style=\"color: #7f7f7f; text-decoration-color: #7f7f7f\">               </span>\n",
       "<span style=\"color: #7fbfbf; text-decoration-color: #7fbfbf\">                    </span>         <span style=\"color: #0000ff; text-decoration-color: #0000ff; text-decoration: underline\">returning-a-view-versus-a-copy</span>                                         <span style=\"color: #7f7f7f; text-decoration-color: #7f7f7f\">               </span>\n",
       "<span style=\"color: #7fbfbf; text-decoration-color: #7fbfbf\">                    </span>           df<span style=\"font-weight: bold\">[</span>df<span style=\"font-weight: bold\">[</span><span style=\"color: #008000; text-decoration-color: #008000\">'unit'</span><span style=\"font-weight: bold\">]</span> == <span style=\"color: #008000; text-decoration-color: #008000\">'50.00-52.00'</span><span style=\"font-weight: bold\">][</span><span style=\"color: #008000; text-decoration-color: #008000\">'unit'</span><span style=\"font-weight: bold\">]</span> = <span style=\"color: #008000; text-decoration-color: #008000\">'প্রতি কেজি'</span>                   <span style=\"color: #7f7f7f; text-decoration-color: #7f7f7f\">               </span>\n",
       "<span style=\"color: #7fbfbf; text-decoration-color: #7fbfbf\">                    </span>                                                                                <span style=\"color: #7f7f7f; text-decoration-color: #7f7f7f\">               </span>\n",
       "</pre>\n"
      ],
      "text/plain": [
       "\u001b[2;36m                   \u001b[0m\u001b[2;36m \u001b[0m\u001b[33mWARNING \u001b[0m \u001b[35m/tmp/ipykernel_18497/\u001b[0m\u001b[95m905726389.py\u001b[0m:\u001b[1;36m1\u001b[0m: SettingWithCopyWarning:           \u001b]8;id=50507;file:///home/zishan/anaconda3/envs/commodity_price_forecasting/lib/python3.11/warnings.py\u001b\\\u001b[2mwarnings.py\u001b[0m\u001b]8;;\u001b\\\u001b[2m:\u001b[0m\u001b]8;id=320332;file:///home/zishan/anaconda3/envs/commodity_price_forecasting/lib/python3.11/warnings.py#110\u001b\\\u001b[2m110\u001b[0m\u001b]8;;\u001b\\\n",
       "\u001b[2;36m                    \u001b[0m         A value is trying to be set on a copy of a slice from a DataFrame.     \u001b[2m               \u001b[0m\n",
       "\u001b[2;36m                    \u001b[0m         Try using .loc = value instead                                         \u001b[2m               \u001b[0m\n",
       "\u001b[2;36m                    \u001b[0m                                                                                \u001b[2m               \u001b[0m\n",
       "\u001b[2;36m                    \u001b[0m         See the caveats in the documentation:                                  \u001b[2m               \u001b[0m\n",
       "\u001b[2;36m                    \u001b[0m         \u001b[4;94mhttps://pandas.pydata.org/pandas-docs/stable/user_guide/indexing.html#\u001b[0m \u001b[2m               \u001b[0m\n",
       "\u001b[2;36m                    \u001b[0m         \u001b[4;94mreturning-a-view-versus-a-copy\u001b[0m                                         \u001b[2m               \u001b[0m\n",
       "\u001b[2;36m                    \u001b[0m           df\u001b[1m[\u001b[0mdf\u001b[1m[\u001b[0m\u001b[32m'unit'\u001b[0m\u001b[1m]\u001b[0m == \u001b[32m'50.00-52.00'\u001b[0m\u001b[1m]\u001b[0m\u001b[1m[\u001b[0m\u001b[32m'unit'\u001b[0m\u001b[1m]\u001b[0m = \u001b[32m'প্রতি কেজি'\u001b[0m                   \u001b[2m               \u001b[0m\n",
       "\u001b[2;36m                    \u001b[0m                                                                                \u001b[2m               \u001b[0m\n"
      ]
     },
     "metadata": {},
     "output_type": "display_data"
    }
   ],
   "source": [
    "df[df['unit'] == '50.00-52.00']['unit'] = 'প্রতি কেজি'"
   ]
  },
  {
   "cell_type": "code",
   "execution_count": 211,
   "id": "9a8cb752",
   "metadata": {},
   "outputs": [],
   "source": [
    "unit_mapping = {\n",
    "    'প্রতি কেজি': '1 KG',\n",
    "    '১ কেজি': '1 KG', \n",
    "    'প্রতি লিটার': '1 Liter',\n",
    "    'প্রতি কেজি প্যাঃ': '1 KG',\n",
    "    'প্রতি মেঃটন': '1 Metric Tonne',\n",
    "    '৫ লিটার': '5 Liter',\n",
    "    '১ লিটার': '1 Liter',\n",
    "    'প্রতি দিস্তা': '25 Pieces',\n",
    "    'প্রতি হালি': '4 Pieces',\n",
    "    '2 লিটার': '2 Liter'\n",
    "}\n",
    "\n",
    "df['unit'] = df['unit'].map(unit_mapping)"
   ]
  },
  {
   "cell_type": "code",
   "execution_count": 212,
   "id": "4443ad1e",
   "metadata": {},
   "outputs": [
    {
     "data": {
      "text/html": [
       "<pre style=\"white-space:pre;overflow-x:auto;line-height:normal;font-family:Menlo,'DejaVu Sans Mono',consolas,'Courier New',monospace\"></pre>\n"
      ],
      "text/plain": []
     },
     "metadata": {},
     "output_type": "display_data"
    },
    {
     "data": {
      "text/plain": [
       "\n",
       "unit\n",
       "\u001b[1;36m1\u001b[0m KG              \u001b[1;36m44546\u001b[0m\n",
       "\u001b[1;36m1\u001b[0m Liter            \u001b[1;36m4474\u001b[0m\n",
       "\u001b[1;36m1\u001b[0m Metric Tonne     \u001b[1;36m2072\u001b[0m\n",
       "\u001b[1;36m5\u001b[0m Liter            \u001b[1;36m1502\u001b[0m\n",
       "\u001b[1;36m4\u001b[0m Pieces           \u001b[1;36m1036\u001b[0m\n",
       "\u001b[1;36m25\u001b[0m Pieces          \u001b[1;36m1036\u001b[0m\n",
       "\u001b[1;36m2\u001b[0m Liter             \u001b[1;36m375\u001b[0m\n",
       "Name: count, dtype: int64"
      ]
     },
     "execution_count": 212,
     "metadata": {},
     "output_type": "execute_result"
    }
   ],
   "source": [
    "df['unit'].value_counts()"
   ]
  },
  {
   "cell_type": "code",
   "execution_count": 213,
   "id": "8d40f715",
   "metadata": {},
   "outputs": [
    {
     "name": "stdout",
     "output_type": "stream",
     "text": [
      "<class 'pandas.core.frame.DataFrame'>\n",
      "RangeIndex: 55043 entries, 0 to 55042\n",
      "Data columns (total 6 columns):\n",
      " #   Column      Non-Null Count  Dtype         \n",
      "---  ------      --------------  -----         \n",
      " 0   date        55043 non-null  datetime64[ns]\n",
      " 1   category    55043 non-null  object        \n",
      " 2   item        55043 non-null  object        \n",
      " 3   unit        55041 non-null  object        \n",
      " 4   low_price   55042 non-null  float64       \n",
      " 5   high_price  55042 non-null  float64       \n",
      "dtypes: datetime64[ns](1), float64(2), object(3)\n",
      "memory usage: 2.5+ MB\n"
     ]
    }
   ],
   "source": [
    "df.info()"
   ]
  },
  {
   "cell_type": "code",
   "execution_count": 214,
   "id": "1ebb7f5c",
   "metadata": {},
   "outputs": [
    {
     "data": {
      "text/html": [
       "<pre style=\"white-space:pre;overflow-x:auto;line-height:normal;font-family:Menlo,'DejaVu Sans Mono',consolas,'Courier New',monospace\"></pre>\n"
      ],
      "text/plain": []
     },
     "metadata": {},
     "output_type": "display_data"
    },
    {
     "data": {
      "text/html": [
       "<div>\n",
       "<style scoped>\n",
       "    .dataframe tbody tr th:only-of-type {\n",
       "        vertical-align: middle;\n",
       "    }\n",
       "\n",
       "    .dataframe tbody tr th {\n",
       "        vertical-align: top;\n",
       "    }\n",
       "\n",
       "    .dataframe thead th {\n",
       "        text-align: right;\n",
       "    }\n",
       "</style>\n",
       "<table border=\"1\" class=\"dataframe\">\n",
       "  <thead>\n",
       "    <tr style=\"text-align: right;\">\n",
       "      <th></th>\n",
       "      <th>date</th>\n",
       "      <th>category</th>\n",
       "      <th>item</th>\n",
       "      <th>unit</th>\n",
       "      <th>low_price</th>\n",
       "      <th>high_price</th>\n",
       "    </tr>\n",
       "  </thead>\n",
       "  <tbody>\n",
       "    <tr>\n",
       "      <th>5664</th>\n",
       "      <td>2023-11-13</td>\n",
       "      <td>মসলাঃ</td>\n",
       "      <td>তেজপাতা</td>\n",
       "      <td>NaN</td>\n",
       "      <td>150.0</td>\n",
       "      <td>200.0</td>\n",
       "    </tr>\n",
       "    <tr>\n",
       "      <th>41850</th>\n",
       "      <td>2023-11-15</td>\n",
       "      <td>মসলাঃ</td>\n",
       "      <td>তেজপাতা</td>\n",
       "      <td>NaN</td>\n",
       "      <td>150.0</td>\n",
       "      <td>200.0</td>\n",
       "    </tr>\n",
       "  </tbody>\n",
       "</table>\n",
       "</div>"
      ],
      "text/plain": [
       "\n",
       "            date category     item unit  low_price  high_price\n",
       "\u001b[1;36m5664\u001b[0m  \u001b[1;36m2023\u001b[0m-\u001b[1;36m11\u001b[0m-\u001b[1;36m13\u001b[0m    মসলাঃ  তেজপাতা  NaN      \u001b[1;36m150.0\u001b[0m       \u001b[1;36m200.0\u001b[0m\n",
       "\u001b[1;36m41850\u001b[0m \u001b[1;36m2023\u001b[0m-\u001b[1;36m11\u001b[0m-\u001b[1;36m15\u001b[0m    মসলাঃ  তেজপাতা  NaN      \u001b[1;36m150.0\u001b[0m       \u001b[1;36m200.0\u001b[0m"
      ]
     },
     "execution_count": 214,
     "metadata": {},
     "output_type": "execute_result"
    }
   ],
   "source": [
    "df[df['unit'].isna()]"
   ]
  },
  {
   "cell_type": "code",
   "execution_count": 215,
   "id": "e2cc3d5d",
   "metadata": {},
   "outputs": [
    {
     "data": {
      "text/html": [
       "<pre style=\"white-space:pre;overflow-x:auto;line-height:normal;font-family:Menlo,'DejaVu Sans Mono',consolas,'Courier New',monospace\"></pre>\n"
      ],
      "text/plain": []
     },
     "metadata": {},
     "output_type": "display_data"
    },
    {
     "data": {
      "text/plain": [
       "\n",
       "category\n",
       "মসলাঃ                   \u001b[1;36m16576\u001b[0m\n",
       "ডাল                      \u001b[1;36m7252\u001b[0m\n",
       "বিবিধঃ                   \u001b[1;36m7252\u001b[0m\n",
       "ভোজ্য তেল                \u001b[1;36m6351\u001b[0m\n",
       "মাছ ও গোশত:              \u001b[1;36m6216\u001b[0m\n",
       "আটা\u001b[35m/\u001b[0m\u001b[95mময়দ\u001b[0mা                 \u001b[1;36m4144\u001b[0m\n",
       "গুড়া দু\u001b[1;35mধ\u001b[0m\u001b[1m(\u001b[0mপ্যাকেটজাত\u001b[1m)\u001b[0m     \u001b[1;36m4144\u001b[0m\n",
       "চাল                      \u001b[1;36m3108\u001b[0m\n",
       "Name: count, dtype: int64"
      ]
     },
     "execution_count": 215,
     "metadata": {},
     "output_type": "execute_result"
    }
   ],
   "source": [
    "df['category'].value_counts()"
   ]
  },
  {
   "cell_type": "code",
   "execution_count": 216,
   "id": "648d8d51",
   "metadata": {},
   "outputs": [],
   "source": [
    "category_mapping = {\n",
    "    'মসলাঃ': 'Spices',\n",
    "    'ডাল': 'Lentils',\n",
    "    'বিবিধঃ': 'Miscellaneous', \n",
    "    'ভোজ্য তেল': 'Edible Oil',\n",
    "    'মাছ ও গোশত:': 'Fish & Meat',\n",
    "    'আটা/ময়দা': 'Flour',\n",
    "    'গুড়া দুধ(প্যাকেটজাত)': 'Powdered Milk (Packaged)',\n",
    "    'চাল': 'Rice'\n",
    "}\n",
    "\n",
    "df['category'] = df['category'].map(category_mapping)"
   ]
  },
  {
   "cell_type": "code",
   "execution_count": 217,
   "id": "68f3f9a0",
   "metadata": {},
   "outputs": [
    {
     "data": {
      "text/html": [
       "<pre style=\"white-space:pre;overflow-x:auto;line-height:normal;font-family:Menlo,'DejaVu Sans Mono',consolas,'Courier New',monospace\"></pre>\n"
      ],
      "text/plain": []
     },
     "metadata": {},
     "output_type": "display_data"
    },
    {
     "data": {
      "text/html": [
       "<div>\n",
       "<style scoped>\n",
       "    .dataframe tbody tr th:only-of-type {\n",
       "        vertical-align: middle;\n",
       "    }\n",
       "\n",
       "    .dataframe tbody tr th {\n",
       "        vertical-align: top;\n",
       "    }\n",
       "\n",
       "    .dataframe thead th {\n",
       "        text-align: right;\n",
       "    }\n",
       "</style>\n",
       "<table border=\"1\" class=\"dataframe\">\n",
       "  <thead>\n",
       "    <tr style=\"text-align: right;\">\n",
       "      <th></th>\n",
       "      <th>date</th>\n",
       "      <th>category</th>\n",
       "      <th>item</th>\n",
       "      <th>unit</th>\n",
       "      <th>low_price</th>\n",
       "      <th>high_price</th>\n",
       "    </tr>\n",
       "  </thead>\n",
       "  <tbody>\n",
       "    <tr>\n",
       "      <th>0</th>\n",
       "      <td>2025-08-01</td>\n",
       "      <td>Rice</td>\n",
       "      <td>চাল সরু (নাজির/মিনিকেট)</td>\n",
       "      <td>1 KG</td>\n",
       "      <td>75.0</td>\n",
       "      <td>85.0</td>\n",
       "    </tr>\n",
       "    <tr>\n",
       "      <th>1</th>\n",
       "      <td>2025-08-01</td>\n",
       "      <td>Rice</td>\n",
       "      <td>চাল (মাঝারী)পাইজাম/আটাশ</td>\n",
       "      <td>1 KG</td>\n",
       "      <td>60.0</td>\n",
       "      <td>75.0</td>\n",
       "    </tr>\n",
       "    <tr>\n",
       "      <th>2</th>\n",
       "      <td>2025-08-01</td>\n",
       "      <td>Rice</td>\n",
       "      <td>চাল (মোটা)/স্বর্ণা/চায়না ইরি</td>\n",
       "      <td>1 KG</td>\n",
       "      <td>55.0</td>\n",
       "      <td>60.0</td>\n",
       "    </tr>\n",
       "    <tr>\n",
       "      <th>3</th>\n",
       "      <td>2025-08-01</td>\n",
       "      <td>Flour</td>\n",
       "      <td>আটা সাদা (খোলা)</td>\n",
       "      <td>1 KG</td>\n",
       "      <td>40.0</td>\n",
       "      <td>45.0</td>\n",
       "    </tr>\n",
       "    <tr>\n",
       "      <th>4</th>\n",
       "      <td>2025-08-01</td>\n",
       "      <td>Flour</td>\n",
       "      <td>আটা (প্যাকেট)</td>\n",
       "      <td>1 KG</td>\n",
       "      <td>50.0</td>\n",
       "      <td>55.0</td>\n",
       "    </tr>\n",
       "    <tr>\n",
       "      <th>...</th>\n",
       "      <td>...</td>\n",
       "      <td>...</td>\n",
       "      <td>...</td>\n",
       "      <td>...</td>\n",
       "      <td>...</td>\n",
       "      <td>...</td>\n",
       "    </tr>\n",
       "    <tr>\n",
       "      <th>55038</th>\n",
       "      <td>2024-07-08</td>\n",
       "      <td>Miscellaneous</td>\n",
       "      <td>লবণ(প্যাঃ)আয়োডিনযুক্ত(মানভেদে)</td>\n",
       "      <td>1 KG</td>\n",
       "      <td>38.0</td>\n",
       "      <td>42.0</td>\n",
       "    </tr>\n",
       "    <tr>\n",
       "      <th>55039</th>\n",
       "      <td>2024-07-08</td>\n",
       "      <td>Miscellaneous</td>\n",
       "      <td>ডিম (ফার্ম)</td>\n",
       "      <td>4 Pieces</td>\n",
       "      <td>45.0</td>\n",
       "      <td>50.0</td>\n",
       "    </tr>\n",
       "    <tr>\n",
       "      <th>55040</th>\n",
       "      <td>2024-07-08</td>\n",
       "      <td>Miscellaneous</td>\n",
       "      <td>লেখার কাগজ(সাদা)</td>\n",
       "      <td>25 Pieces</td>\n",
       "      <td>30.0</td>\n",
       "      <td>35.0</td>\n",
       "    </tr>\n",
       "    <tr>\n",
       "      <th>55041</th>\n",
       "      <td>2024-07-08</td>\n",
       "      <td>Miscellaneous</td>\n",
       "      <td>এম,এস রড (৬০ গ্রেড)</td>\n",
       "      <td>1 Metric Tonne</td>\n",
       "      <td>88500.0</td>\n",
       "      <td>89500.0</td>\n",
       "    </tr>\n",
       "    <tr>\n",
       "      <th>55042</th>\n",
       "      <td>2024-07-08</td>\n",
       "      <td>Miscellaneous</td>\n",
       "      <td>এম,এস রড( ৪০ গ্রেড)</td>\n",
       "      <td>1 Metric Tonne</td>\n",
       "      <td>85500.0</td>\n",
       "      <td>87500.0</td>\n",
       "    </tr>\n",
       "  </tbody>\n",
       "</table>\n",
       "<p>55043 rows × 6 columns</p>\n",
       "</div>"
      ],
      "text/plain": [
       "\n",
       "            date       category                            item  \\\n",
       "\u001b[1;36m0\u001b[0m     \u001b[1;36m2025\u001b[0m-\u001b[1;36m08\u001b[0m-\u001b[1;36m01\u001b[0m           Rice         চাল সরু \u001b[1m(\u001b[0mনাজির/মিনিকেট\u001b[1m)\u001b[0m   \n",
       "\u001b[1;36m1\u001b[0m     \u001b[1;36m2025\u001b[0m-\u001b[1;36m08\u001b[0m-\u001b[1;36m01\u001b[0m           Rice         চাল \u001b[1m(\u001b[0mমাঝারী\u001b[1m)\u001b[0mপাইজাম/আটাশ   \n",
       "\u001b[1;36m2\u001b[0m     \u001b[1;36m2025\u001b[0m-\u001b[1;36m08\u001b[0m-\u001b[1;36m01\u001b[0m           Rice    চাল \u001b[1m(\u001b[0mমোটা\u001b[1m)\u001b[0m\u001b[35m/\u001b[0m\u001b[95mস\u001b[0m্বর্ণা\u001b[35m/\u001b[0m\u001b[95mচ\u001b[0mায়না ইরি   \n",
       "\u001b[1;36m3\u001b[0m     \u001b[1;36m2025\u001b[0m-\u001b[1;36m08\u001b[0m-\u001b[1;36m01\u001b[0m          Flour                 আটা সাদা \u001b[1m(\u001b[0mখোলা\u001b[1m)\u001b[0m   \n",
       "\u001b[1;36m4\u001b[0m     \u001b[1;36m2025\u001b[0m-\u001b[1;36m08\u001b[0m-\u001b[1;36m01\u001b[0m          Flour                   আটা \u001b[1m(\u001b[0mপ্যাকেট\u001b[1m)\u001b[0m   \n",
       "\u001b[33m...\u001b[0m          \u001b[33m...\u001b[0m            \u001b[33m...\u001b[0m                             \u001b[33m...\u001b[0m   \n",
       "\u001b[1;36m55038\u001b[0m \u001b[1;36m2024\u001b[0m-\u001b[1;36m07\u001b[0m-\u001b[1;36m08\u001b[0m  Miscellaneous  \u001b[1;35mলবণ\u001b[0m\u001b[1m(\u001b[0mপ্যাঃ\u001b[1m)\u001b[0mআয়োডিনযুক্\u001b[1;35mত\u001b[0m\u001b[1m(\u001b[0mমানভেদে\u001b[1m)\u001b[0m   \n",
       "\u001b[1;36m55039\u001b[0m \u001b[1;36m2024\u001b[0m-\u001b[1;36m07\u001b[0m-\u001b[1;36m08\u001b[0m  Miscellaneous                     ডিম \u001b[1m(\u001b[0mফার্ম\u001b[1m)\u001b[0m   \n",
       "\u001b[1;36m55040\u001b[0m \u001b[1;36m2024\u001b[0m-\u001b[1;36m07\u001b[0m-\u001b[1;36m08\u001b[0m  Miscellaneous                লেখার কা\u001b[1;35mগজ\u001b[0m\u001b[1m(\u001b[0mসাদা\u001b[1m)\u001b[0m   \n",
       "\u001b[1;36m55041\u001b[0m \u001b[1;36m2024\u001b[0m-\u001b[1;36m07\u001b[0m-\u001b[1;36m08\u001b[0m  Miscellaneous             এম,এস রড \u001b[1m(\u001b[0m৬০ গ্রেড\u001b[1m)\u001b[0m   \n",
       "\u001b[1;36m55042\u001b[0m \u001b[1;36m2024\u001b[0m-\u001b[1;36m07\u001b[0m-\u001b[1;36m08\u001b[0m  Miscellaneous             এম,এস \u001b[1;35mরড\u001b[0m\u001b[1m(\u001b[0m ৪০ গ্রেড\u001b[1m)\u001b[0m   \n",
       "\n",
       "                 unit  low_price  high_price  \n",
       "\u001b[1;36m0\u001b[0m                \u001b[1;36m1\u001b[0m KG       \u001b[1;36m75.0\u001b[0m        \u001b[1;36m85.0\u001b[0m  \n",
       "\u001b[1;36m1\u001b[0m                \u001b[1;36m1\u001b[0m KG       \u001b[1;36m60.0\u001b[0m        \u001b[1;36m75.0\u001b[0m  \n",
       "\u001b[1;36m2\u001b[0m                \u001b[1;36m1\u001b[0m KG       \u001b[1;36m55.0\u001b[0m        \u001b[1;36m60.0\u001b[0m  \n",
       "\u001b[1;36m3\u001b[0m                \u001b[1;36m1\u001b[0m KG       \u001b[1;36m40.0\u001b[0m        \u001b[1;36m45.0\u001b[0m  \n",
       "\u001b[1;36m4\u001b[0m                \u001b[1;36m1\u001b[0m KG       \u001b[1;36m50.0\u001b[0m        \u001b[1;36m55.0\u001b[0m  \n",
       "\u001b[33m...\u001b[0m               \u001b[33m...\u001b[0m        \u001b[33m...\u001b[0m         \u001b[33m...\u001b[0m  \n",
       "\u001b[1;36m55038\u001b[0m            \u001b[1;36m1\u001b[0m KG       \u001b[1;36m38.0\u001b[0m        \u001b[1;36m42.0\u001b[0m  \n",
       "\u001b[1;36m55039\u001b[0m        \u001b[1;36m4\u001b[0m Pieces       \u001b[1;36m45.0\u001b[0m        \u001b[1;36m50.0\u001b[0m  \n",
       "\u001b[1;36m55040\u001b[0m       \u001b[1;36m25\u001b[0m Pieces       \u001b[1;36m30.0\u001b[0m        \u001b[1;36m35.0\u001b[0m  \n",
       "\u001b[1;36m55041\u001b[0m  \u001b[1;36m1\u001b[0m Metric Tonne    \u001b[1;36m88500.0\u001b[0m     \u001b[1;36m89500.0\u001b[0m  \n",
       "\u001b[1;36m55042\u001b[0m  \u001b[1;36m1\u001b[0m Metric Tonne    \u001b[1;36m85500.0\u001b[0m     \u001b[1;36m87500.0\u001b[0m  \n",
       "\n",
       "\u001b[1m[\u001b[0m\u001b[1;36m55043\u001b[0m rows x \u001b[1;36m6\u001b[0m columns\u001b[1m]\u001b[0m"
      ]
     },
     "execution_count": 217,
     "metadata": {},
     "output_type": "execute_result"
    }
   ],
   "source": [
    "df"
   ]
  },
  {
   "cell_type": "code",
   "execution_count": 218,
   "id": "aae4330f",
   "metadata": {},
   "outputs": [
    {
     "data": {
      "text/html": [
       "<pre style=\"white-space:pre;overflow-x:auto;line-height:normal;font-family:Menlo,'DejaVu Sans Mono',consolas,'Courier New',monospace\"></pre>\n"
      ],
      "text/plain": []
     },
     "metadata": {},
     "output_type": "display_data"
    },
    {
     "data": {
      "text/plain": [
       "\n",
       "item\n",
       "সয়াবিন তেল \u001b[1m(\u001b[0mবোতল\u001b[1m)\u001b[0m               \u001b[1;36m2410\u001b[0m\n",
       "চাল \u001b[1m(\u001b[0mমোটা\u001b[1m)\u001b[0m\u001b[35m/\u001b[0m\u001b[95mস\u001b[0m্বর্ণা\u001b[35m/\u001b[0m\u001b[95mচ\u001b[0mায়না ইরি    \u001b[1;36m1036\u001b[0m\n",
       "আটা সাদা \u001b[1m(\u001b[0mখোলা\u001b[1m)\u001b[0m                 \u001b[1;36m1036\u001b[0m\n",
       "আটা \u001b[1m(\u001b[0mপ্যাকেট\u001b[1m)\u001b[0m                   \u001b[1;36m1036\u001b[0m\n",
       "চাল সরু \u001b[1m(\u001b[0mনাজির/মিনিকেট\u001b[1m)\u001b[0m         \u001b[1;36m1036\u001b[0m\n",
       "                                \u001b[33m...\u001b[0m \n",
       "রসু\u001b[1;35mন\u001b[0m\u001b[1m(\u001b[0mদেশী\u001b[1m)\u001b[0m                        \u001b[1;36m60\u001b[0m\n",
       "আলু \u001b[1m(\u001b[0mনতুন/পুরাতন\u001b[1m)\u001b[0m\u001b[1m(\u001b[0mমানভেদে\u001b[1m)\u001b[0m        \u001b[1;36m41\u001b[0m\n",
       "রসু\u001b[1;35mন\u001b[0m\u001b[1m(\u001b[0mদেশী\u001b[1m)\u001b[0m পুরাতন                 \u001b[1;36m29\u001b[0m\n",
       "রসু\u001b[1;35mন\u001b[0m\u001b[1m(\u001b[0mদেশী\u001b[1m)\u001b[0m নতুন/পুরাতন            \u001b[1;36m29\u001b[0m\n",
       "পিঁয়াজ \u001b[1m(\u001b[0mনতুন/পুরাতন\u001b[1m)\u001b[0m \u001b[1m(\u001b[0mদেশী\u001b[1m)\u001b[0m        \u001b[1;36m7\u001b[0m\n",
       "Name: count, Length: \u001b[1;36m69\u001b[0m, dtype: int64"
      ]
     },
     "execution_count": 218,
     "metadata": {},
     "output_type": "execute_result"
    }
   ],
   "source": [
    "df['item'].value_counts().head(69)"
   ]
  },
  {
   "cell_type": "code",
   "execution_count": 219,
   "id": "c2ad411a",
   "metadata": {},
   "outputs": [
    {
     "name": "stdout",
     "output_type": "stream",
     "text": [
      "চাল সরু (নাজির/মিনিকেট)\n",
      "চাল (মাঝারী)পাইজাম/আটাশ\n",
      "চাল (মোটা)/স্বর্ণা/চায়না ইরি\n",
      "আটা সাদা (খোলা)\n",
      "আটা (প্যাকেট)\n",
      "ময়দা (খোলা)\n",
      "ময়দা (প্যাকেট)\n",
      "সয়াবিন তেল (লুজ)\n",
      "সয়াবিন তেল (বোতল)\n",
      "পাম অয়েল (লুজ)\n",
      "সুপার পাম অয়েল (লুজ)\n",
      "রাইস ব্রান তেল (বোতল)\n",
      "মশুর ডাল (বড় দানা)\n",
      "মশুর ডাল (মাঝারী দানা)\n",
      "মশুর ডাল (ছোট দানা)\n",
      "মুগ ডাল (মানভেদে)\n",
      "এ্যাংকর ডাল\n",
      "ছোলা (মানভেদে)\n",
      "আলু (মানভেদে)\n",
      "পিঁয়াজ (দেশী)\n",
      "পিঁয়াজ (আমদানি)\n",
      "রসুন (দেশী)\n",
      "রসুন (আমদানি)\n",
      "শুকনা মরিচ (দেশী)\n",
      "শুকনা মরিচ (আমদানি)\n",
      "হলুদ (দেশী)\n",
      "হলুদ (আমদানি)\n",
      "আদা (দেশী)\n",
      "আদা (আমদানি)\n",
      "জিরা\n",
      "দারুচিনি\n",
      "লবঙ্গ\n",
      "এলাচ(ছোট)\n",
      "ধনে\n",
      "তেজপাতা\n",
      "রুই\n",
      "ইলিশ\n",
      "গরু\n",
      "খাসী\n",
      "মুরগী(ব্রয়লার)\n",
      "মুরগী (দেশী)\n",
      "ডানো\n",
      "ডিপ্লোমা (নিউজিল্যান্ড)\n",
      "ফ্রেশ\n",
      "মার্কস\n",
      "চিনি\n",
      "খেজুর(সাধারণ মানের)\n",
      "লবণ(প্যাঃ)আয়োডিনযুক্ত\n",
      "ডিম (ফার্ম)\n",
      "লেখার কাগজ(সাদা)\n",
      "এম,এস রড (৬০ গ্রেড)\n",
      "এম,এস রড( ৪০ গ্রেড)\n",
      "পাম অয়েল (সুপার)\n",
      "মশূর ডাল (মাঝারী দানা)\n",
      "লবণ(প্যাঃ)আয়োডিনযুক্ত(মানভেদে)\n",
      "চাল (মাঝারী)পাইজাম/লতা\n",
      "রসুন(দেশী) নতুন/পুরাতন)\n",
      "পাম অলিন (বোতল)\n",
      "পিঁয়াজ (নতুন) (দেশী)\n",
      "রসুন(দেশী)\n",
      "আলু (নতুন, মানভেদে)\n",
      "রসুন(দেশী) নতুন\n",
      "আদা (দেশী)(নতুন)\n",
      "আদা (দেশী) নতুন\n",
      "আলু (নতুন/পুরাতন)(মানভেদে)\n",
      "রসুন(দেশী) পুরাতন\n",
      "রসুন (দেশী) নতুন/পুরাতন\n",
      "রসুন(দেশী) নতুন/পুরাতন\n",
      "পিঁয়াজ (নতুন/পুরাতন) (দেশী)\n"
     ]
    }
   ],
   "source": [
    "for item in df['item'].unique():\n",
    "    print(item)"
   ]
  },
  {
   "cell_type": "markdown",
   "id": "aa35b8fb",
   "metadata": {},
   "source": [
    "**There seems to be some redundent names that need merging**"
   ]
  },
  {
   "cell_type": "code",
   "execution_count": 220,
   "id": "fbf82a7a",
   "metadata": {},
   "outputs": [
    {
     "name": "stdout",
     "output_type": "stream",
     "text": [
      "item\n",
      "সয়াবিন তেল (বোতল)                 2410\n",
      "চাল (মোটা)/স্বর্ণা/চায়না ইরি      1036\n",
      "আটা সাদা (খোলা)                   1036\n",
      "আটা (প্যাকেট)                     1036\n",
      "চাল সরু (নাজির/মিনিকেট)           1036\n",
      "চিনি                              1036\n",
      "ময়দা (খোলা)                       1036\n",
      "ময়দা (প্যাকেট)                    1036\n",
      "পাম অয়েল (লুজ)                    1036\n",
      "মশুর ডাল (বড় দানা)                1036\n",
      "এ্যাংকর ডাল                       1036\n",
      "মুগ ডাল (মানভেদে)                 1036\n",
      "মশুর ডাল (ছোট দানা)               1036\n",
      "পিঁয়াজ (আমদানি)                   1036\n",
      "ছোলা (মানভেদে)                    1036\n",
      "হলুদ (আমদানি)                     1036\n",
      "আদা (আমদানি)                      1036\n",
      "হলুদ (দেশী)                       1036\n",
      "শুকনা মরিচ (আমদানি)               1036\n",
      "শুকনা মরিচ (দেশী)                 1036\n",
      "রসুন (আমদানি)                     1036\n",
      "ধনে                               1036\n",
      "তেজপাতা                           1036\n",
      "লবঙ্গ                             1036\n",
      "এলাচ(ছোট)                        1036\n",
      "রুই                               1036\n",
      "ইলিশ                              1036\n",
      "দারুচিনি                          1036\n",
      "জিরা                              1036\n",
      "মার্কস                            1036\n",
      "ফ্রেশ                             1036\n",
      "ডিপ্লোমা (নিউজিল্যান্ড)           1036\n",
      "ডানো                              1036\n",
      "মুরগী (দেশী)                      1036\n",
      "মুরগী(ব্রয়লার)                    1036\n",
      "খাসী                              1036\n",
      "গরু                               1036\n",
      "এম,এস রড( ৪০ গ্রেড)               1036\n",
      "খেজুর(সাধারণ মানের)               1036\n",
      "ডিম (ফার্ম)                       1036\n",
      "লেখার কাগজ(সাদা)                  1036\n",
      "এম,এস রড (৬০ গ্রেড)               1036\n",
      "সয়াবিন তেল (লুজ)                  1034\n",
      "মশূর ডাল (মাঝারী দানা)             929\n",
      "আলু (মানভেদে)                      889\n",
      "লবণ(প্যাঃ)আয়োডিনযুক্ত(মানভেদে)     841\n",
      "পাম অয়েল (সুপার)                   833\n",
      "পিঁয়াজ (দেশী)                      816\n",
      "রাইস ব্রান তেল (বোতল)              761\n",
      "চাল (মাঝারী)পাইজাম/লতা             752\n",
      "আদা (দেশী)                         723\n",
      "রসুন (দেশী)                        444\n",
      "রসুন(দেশী) নতুন/পুরাতন)            302\n",
      "চাল (মাঝারী)পাইজাম/আটাশ            284\n",
      "আদা (দেশী)(নতুন)                   214\n",
      "পিঁয়াজ (নতুন) (দেশী)               213\n",
      "সুপার পাম অয়েল (লুজ)               203\n",
      "লবণ(প্যাঃ)আয়োডিনযুক্ত              195\n",
      "মশুর ডাল (মাঝারী দানা)             107\n",
      "আলু (নতুন, মানভেদে)                106\n",
      "আদা (দেশী) নতুন                     99\n",
      "রসুন(দেশী) নতুন                     94\n",
      "রসুন (দেশী) নতুন/পুরাতন             78\n",
      "পাম অলিন (বোতল)                     74\n",
      "রসুন(দেশী)                          60\n",
      "আলু (নতুন/পুরাতন)(মানভেদে)          41\n",
      "রসুন(দেশী) পুরাতন                   29\n",
      "রসুন(দেশী) নতুন/পুরাতন              29\n",
      "পিঁয়াজ (নতুন/পুরাতন) (দেশী)          7\n",
      "Name: count, dtype: int64\n"
     ]
    }
   ],
   "source": [
    "pd.set_option('display.max_rows', 69)\n",
    "item_counts = df['item'].value_counts()\n",
    "print(item_counts)\n",
    "pd.reset_option('display.max_rows')"
   ]
  },
  {
   "cell_type": "code",
   "execution_count": 221,
   "id": "cd19de5d",
   "metadata": {},
   "outputs": [
    {
     "name": "stdout",
     "output_type": "stream",
     "text": [
      "\n",
      "============================================================\n",
      "ANALYZING MERGE POSSIBILITIES: RICE\n",
      "============================================================\n",
      "চাল (মাঝারী)পাইজাম/লতা: 700 unique dates from 2021-05-17 to 2024-10-29\n",
      "চাল (মাঝারী)পাইজাম/আটাশ: 256 unique dates from 2024-10-30 to 2025-10-13\n",
      "✅ CAN MERGE: চাল (মাঝারী)পাইজাম/লতা + চাল (মাঝারী)পাইজাম/আটাশ (completely disjoint dates)\n",
      "\n",
      "============================================================\n",
      "ANALYZING MERGE POSSIBILITIES: GARLIC\n",
      "============================================================\n",
      "রসুন(দেশী) নতুন/পুরাতন): 290 unique dates from 2022-02-18 to 2024-01-01\n",
      "রসুন(দেশী) নতুন: 87 unique dates from 2024-03-04 to 2024-06-23\n",
      "রসুন (দেশী) নতুন/পুরাতন: 73 unique dates from 2021-05-17 to 2021-08-27\n",
      "রসুন(দেশী) নতুন/পুরাতন: 29 unique dates from 2024-02-01 to 2024-03-03\n",
      "রসুন(দেশী) পুরাতন: 27 unique dates from 2024-01-02 to 2024-01-31\n",
      "✅ CAN MERGE: রসুন(দেশী) নতুন/পুরাতন) + রসুন(দেশী) নতুন (completely disjoint dates)\n",
      "✅ CAN MERGE: রসুন(দেশী) নতুন/পুরাতন) + রসুন (দেশী) নতুন/পুরাতন (completely disjoint dates)\n",
      "✅ CAN MERGE: রসুন(দেশী) নতুন/পুরাতন) + রসুন(দেশী) নতুন/পুরাতন (completely disjoint dates)\n",
      "✅ CAN MERGE: রসুন(দেশী) নতুন/পুরাতন) + রসুন(দেশী) পুরাতন (completely disjoint dates)\n",
      "✅ CAN MERGE: রসুন(দেশী) নতুন + রসুন (দেশী) নতুন/পুরাতন (completely disjoint dates)\n",
      "✅ CAN MERGE: রসুন(দেশী) নতুন + রসুন(দেশী) নতুন/পুরাতন (completely disjoint dates)\n",
      "✅ CAN MERGE: রসুন(দেশী) নতুন + রসুন(দেশী) পুরাতন (completely disjoint dates)\n",
      "✅ CAN MERGE: রসুন (দেশী) নতুন/পুরাতন + রসুন(দেশী) নতুন/পুরাতন (completely disjoint dates)\n",
      "✅ CAN MERGE: রসুন (দেশী) নতুন/পুরাতন + রসুন(দেশী) পুরাতন (completely disjoint dates)\n",
      "✅ CAN MERGE: রসুন(দেশী) নতুন/পুরাতন + রসুন(দেশী) পুরাতন (completely disjoint dates)\n",
      "\n",
      "============================================================\n",
      "ANALYZING MERGE POSSIBILITIES: GINGER\n",
      "============================================================\n",
      "আদা (দেশী)(নতুন): 200 unique dates from 2023-10-25 to 2024-06-23\n",
      "আদা (দেশী) নতুন: 97 unique dates from 2021-11-01 to 2022-06-16\n",
      "✅ CAN MERGE: আদা (দেশী)(নতুন) + আদা (দেশী) নতুন (completely disjoint dates)\n",
      "\n",
      "============================================================\n",
      "ANALYZING MERGE POSSIBILITIES: ONION\n",
      "============================================================\n",
      "পিঁয়াজ (নতুন) (দেশী): 183 unique dates from 2023-12-20 to 2024-08-20\n",
      "পিঁয়াজ (নতুন/পুরাতন) (দেশী): 7 unique dates from 2023-12-11 to 2023-12-18\n",
      "✅ CAN MERGE: পিঁয়াজ (নতুন) (দেশী) + পিঁয়াজ (নতুন/পুরাতন) (দেশী) (completely disjoint dates)\n",
      "\n",
      "============================================================\n",
      "ANALYZING MERGE POSSIBILITIES: POTATO\n",
      "============================================================\n",
      "আলু (নতুন, মানভেদে): 101 unique dates from 2024-01-25 to 2024-05-25\n",
      "আলু (নতুন/পুরাতন)(মানভেদে): 37 unique dates from 2023-12-12 to 2024-01-24\n",
      "✅ CAN MERGE: আলু (নতুন, মানভেদে) + আলু (নতুন/পুরাতন)(মানভেদে) (completely disjoint dates)\n",
      "\n",
      "============================================================\n",
      "ANALYZING MERGE POSSIBILITIES: LENTILS\n",
      "============================================================\n",
      "মশুর ডাল (মাঝারী দানা): 96 unique dates from 2025-06-23 to 2025-10-13\n",
      "\n",
      "============================================================\n",
      "ANALYZING MERGE POSSIBILITIES: SALT\n",
      "============================================================\n",
      "লবণ(প্যাঃ)আয়োডিনযুক্ত: 179 unique dates from 2025-03-09 to 2025-10-13\n",
      "\n",
      "============================================================\n",
      "ANALYZING MERGE POSSIBILITIES: PALM_OIL\n",
      "============================================================\n",
      "সুপার পাম অয়েল (লুজ): 187 unique dates from 2025-01-22 to 2025-10-13\n",
      "পাম অলিন (বোতল): 37 unique dates from 2025-04-10 to 2025-05-19\n",
      "❌ CANNOT MERGE: সুপার পাম অয়েল (লুজ) + পাম অলিন (বোতল) (shares 37 dates: [datetime.date(2025, 4, 10), datetime.date(2025, 4, 11), datetime.date(2025, 4, 12)]...)\n"
     ]
    }
   ],
   "source": [
    "def analyze_merge_possibilities_exact_dates(df):\n",
    "    \n",
    "    item_groups = {\n",
    "        'rice': ['চাল (মাঝারী)পাইজাম/লতা', 'চাল (মাঝারী)পাইজাম/আটাশ'],\n",
    "        'garlic': ['রসুন(দেশী) নতুন/পুরাতন)', 'রসুন(দেশী) নতুন', 'রসুন (দেশী) নতুন/পুরাতন', 'রসুন(দেশী) নতুন/পুরাতন', 'রসুন(দেশী) পুরাতন'],\n",
    "        'ginger': ['আদা (দেশী)(নতুন)', 'আদা (দেশী) নতুন'],\n",
    "        'onion': ['পিঁয়াজ (নতুন) (দেশী)', 'পিঁয়াজ (নতুন/পুরাতন) (দেশী)'],\n",
    "        'potato': ['আলু (নতুন, মানভেদে)', 'আলু (নতুন/পুরাতন)(মানভেদে)'],\n",
    "        'lentils': ['মশুর ডাল (মাঝারী দানা)'],\n",
    "        'salt': ['লবণ(প্যাঃ)আয়োডিনযুক্ত'],\n",
    "        'palm_oil': ['সুপার পাম অয়েল (লুজ)', 'পাম অলিন (বোতল)']\n",
    "    }\n",
    "    \n",
    "    merge_suggestions = {}\n",
    "    \n",
    "    for group_name, items in item_groups.items():\n",
    "        print(f\"\\n{'='*60}\")\n",
    "        print(f\"ANALYZING MERGE POSSIBILITIES: {group_name.upper()}\")\n",
    "        print(f\"{'='*60}\")\n",
    "        \n",
    "        date_sets = {}\n",
    "        for item in items:\n",
    "            if item in df['item'].values:\n",
    "                unique_dates = set(df[df['item'] == item]['date'].dt.date)\n",
    "                date_sets[item] = unique_dates\n",
    "                print(f\"{item}: {len(unique_dates)} unique dates from {min(unique_dates)} to {max(unique_dates)}\")\n",
    "        \n",
    "        items_list = list(date_sets.keys())\n",
    "        possible_merges = []\n",
    "        \n",
    "        for i in range(len(items_list)):\n",
    "            for j in range(i + 1, len(items_list)):\n",
    "                item1, item2 = items_list[i], items_list[j]\n",
    "                set1 = date_sets[item1]\n",
    "                set2 = date_sets[item2]\n",
    "                \n",
    "                are_disjoint = set1.isdisjoint(set2)\n",
    "                \n",
    "                if are_disjoint:\n",
    "                    possible_merges.append((item1, item2))\n",
    "                    print(f\"✅ CAN MERGE: {item1} + {item2} (completely disjoint dates)\")\n",
    "                else:\n",
    "                    overlap_dates = set1.intersection(set2)\n",
    "                    print(f\"❌ CANNOT MERGE: {item1} + {item2} (shares {len(overlap_dates)} dates: {sorted(overlap_dates)[:3]}...)\")\n",
    "        \n",
    "        merge_suggestions[group_name] = possible_merges\n",
    "    \n",
    "    return merge_suggestions\n",
    "\n",
    "merge_analysis = analyze_merge_possibilities_exact_dates(df)"
   ]
  },
  {
   "cell_type": "code",
   "execution_count": 222,
   "id": "5be5fb29",
   "metadata": {},
   "outputs": [
    {
     "name": "stdout",
     "output_type": "stream",
     "text": [
      "Safe merging completed!\n",
      "Items merged: 10\n",
      "Unique items after safe merging: 59\n"
     ]
    }
   ],
   "source": [
    "def safe_merge_items(df):\n",
    "    safe_merge_rules = {\n",
    "        'চাল (মাঝারী)পাইজাম/আটাশ': 'চাল (মাঝারী)পাইজাম/লতা',\n",
    "        \n",
    "        'রসুন(দেশী) নতুন': 'রসুন(দেশী) নতুন/পুরাতন)',\n",
    "        'রসুন (দেশী) নতুন/পুরাতন': 'রসুন(দেশী) নতুন/পুরাতন)',\n",
    "        'রসুন(দেশী) নতুন/পুরাতন': 'রসুন(দেশী) নতুন/পুরাতন)',\n",
    "        'রসুন(দেশী) পুরাতন': 'রসুন(দেশী) নতুন/পুরাতন)',\n",
    "        \n",
    "        'আদা (দেশী) নতুন': 'আদা (দেশী)(নতুন)',\n",
    "        \n",
    "        'পিঁয়াজ (নতুন/পুরাতন) (দেশী)': 'পিঁয়াজ (নতুন) (দেশী)',\n",
    "        \n",
    "        'আলু (নতুন/পুরাতন)(মানভেদে)': 'আলু (নতুন, মানভেদে)',\n",
    "        \n",
    "        'মশুর ডাল (মাঝারী দানা)': 'মশূর ডাল (মাঝারী দানা)',\n",
    "        'লবণ(প্যাঃ)আয়োডিনযুক্ত': 'লবণ(প্যাঃ)আয়োডিনযুক্ত(মানভেদে)',\n",
    "    }\n",
    "    \n",
    "    df['item'] = df['item'].replace(safe_merge_rules)\n",
    "    \n",
    "    print(\"Safe merging completed!\")\n",
    "    print(f\"Items merged: {len(safe_merge_rules)}\")\n",
    "    print(f\"Unique items after safe merging: {len(df['item'].unique())}\")\n",
    "    \n",
    "    return df\n",
    "\n",
    "df = safe_merge_items(df)"
   ]
  },
  {
   "cell_type": "code",
   "execution_count": 223,
   "id": "7907a655",
   "metadata": {},
   "outputs": [
    {
     "data": {
      "text/html": [
       "<pre style=\"white-space:pre;overflow-x:auto;line-height:normal;font-family:Menlo,'DejaVu Sans Mono',consolas,'Courier New',monospace\"></pre>\n"
      ],
      "text/plain": []
     },
     "metadata": {},
     "output_type": "display_data"
    },
    {
     "data": {
      "text/plain": [
       "\n",
       "item\n",
       "সয়াবিন তেল \u001b[1m(\u001b[0mবোতল\u001b[1m)\u001b[0m                 \u001b[1;36m2410\u001b[0m\n",
       "চাল \u001b[1m(\u001b[0mমাঝারী\u001b[1m)\u001b[0mপাইজাম/লতা            \u001b[1;36m1036\u001b[0m\n",
       "চাল সরু \u001b[1m(\u001b[0mনাজির/মিনিকেট\u001b[1m)\u001b[0m           \u001b[1;36m1036\u001b[0m\n",
       "চাল \u001b[1m(\u001b[0mমোটা\u001b[1m)\u001b[0m\u001b[35m/\u001b[0m\u001b[95mস\u001b[0m্বর্ণা\u001b[35m/\u001b[0m\u001b[95mচ\u001b[0mায়না ইরি      \u001b[1;36m1036\u001b[0m\n",
       "আটা সাদা \u001b[1m(\u001b[0mখোলা\u001b[1m)\u001b[0m                   \u001b[1;36m1036\u001b[0m\n",
       "ময়দা \u001b[1m(\u001b[0mখোলা\u001b[1m)\u001b[0m                       \u001b[1;36m1036\u001b[0m\n",
       "আটা \u001b[1m(\u001b[0mপ্যাকেট\u001b[1m)\u001b[0m                     \u001b[1;36m1036\u001b[0m\n",
       "ময়দা \u001b[1m(\u001b[0mপ্যাকেট\u001b[1m)\u001b[0m                    \u001b[1;36m1036\u001b[0m\n",
       "পাম অয়েল \u001b[1m(\u001b[0mলুজ\u001b[1m)\u001b[0m                    \u001b[1;36m1036\u001b[0m\n",
       "মশূর ডাল \u001b[1m(\u001b[0mমাঝারী দানা\u001b[1m)\u001b[0m            \u001b[1;36m1036\u001b[0m\n",
       "মশুর ডাল \u001b[1m(\u001b[0mবড় দানা\u001b[1m)\u001b[0m                \u001b[1;36m1036\u001b[0m\n",
       "হলুদ \u001b[1m(\u001b[0mদেশী\u001b[1m)\u001b[0m                       \u001b[1;36m1036\u001b[0m\n",
       "হলুদ \u001b[1m(\u001b[0mআমদানি\u001b[1m)\u001b[0m                     \u001b[1;36m1036\u001b[0m\n",
       "মশুর ডাল \u001b[1m(\u001b[0mছোট দানা\u001b[1m)\u001b[0m               \u001b[1;36m1036\u001b[0m\n",
       "মুগ ডাল \u001b[1m(\u001b[0mমানভেদে\u001b[1m)\u001b[0m                 \u001b[1;36m1036\u001b[0m\n",
       "ছোলা \u001b[1m(\u001b[0mমানভেদে\u001b[1m)\u001b[0m                    \u001b[1;36m1036\u001b[0m\n",
       "এ্যাংকর ডাল                       \u001b[1;36m1036\u001b[0m\n",
       "রসুন \u001b[1m(\u001b[0mআমদানি\u001b[1m)\u001b[0m                     \u001b[1;36m1036\u001b[0m\n",
       "পিঁয়াজ \u001b[1m(\u001b[0mআমদানি\u001b[1m)\u001b[0m                   \u001b[1;36m1036\u001b[0m\n",
       "শুকনা মরিচ \u001b[1m(\u001b[0mআমদানি\u001b[1m)\u001b[0m               \u001b[1;36m1036\u001b[0m\n",
       "শুকনা মরিচ \u001b[1m(\u001b[0mদেশী\u001b[1m)\u001b[0m                 \u001b[1;36m1036\u001b[0m\n",
       "এলা\u001b[1;35mচ\u001b[0m\u001b[1m(\u001b[0mছোট\u001b[1m)\u001b[0m                        \u001b[1;36m1036\u001b[0m\n",
       "ধনে                               \u001b[1;36m1036\u001b[0m\n",
       "লবঙ্গ                             \u001b[1;36m1036\u001b[0m\n",
       "দারুচিনি                          \u001b[1;36m1036\u001b[0m\n",
       "জিরা                              \u001b[1;36m1036\u001b[0m\n",
       "আদা \u001b[1m(\u001b[0mআমদানি\u001b[1m)\u001b[0m                      \u001b[1;36m1036\u001b[0m\n",
       "এম,এস \u001b[1;35mরড\u001b[0m\u001b[1m(\u001b[0m ৪০ গ্রেড\u001b[1m)\u001b[0m               \u001b[1;36m1036\u001b[0m\n",
       "মার্কস                            \u001b[1;36m1036\u001b[0m\n",
       "চিনি                              \u001b[1;36m1036\u001b[0m\n",
       "খেজু\u001b[1;35mর\u001b[0m\u001b[1m(\u001b[0mসাধারণ মানের\u001b[1m)\u001b[0m               \u001b[1;36m1036\u001b[0m\n",
       "\u001b[1;35mলবণ\u001b[0m\u001b[1m(\u001b[0mপ্যাঃ\u001b[1m)\u001b[0mআয়োডিনযুক্\u001b[1;35mত\u001b[0m\u001b[1m(\u001b[0mমানভেদে\u001b[1m)\u001b[0m    \u001b[1;36m1036\u001b[0m\n",
       "ডিম \u001b[1m(\u001b[0mফার্ম\u001b[1m)\u001b[0m                       \u001b[1;36m1036\u001b[0m\n",
       "তেজপাতা                           \u001b[1;36m1036\u001b[0m\n",
       "রুই                               \u001b[1;36m1036\u001b[0m\n",
       "মুরগী\u001b[1m(\u001b[0mব্রয়লার\u001b[1m)\u001b[0m                    \u001b[1;36m1036\u001b[0m\n",
       "ইলিশ                              \u001b[1;36m1036\u001b[0m\n",
       "গরু                               \u001b[1;36m1036\u001b[0m\n",
       "খাসী                              \u001b[1;36m1036\u001b[0m\n",
       "ডানো                              \u001b[1;36m1036\u001b[0m\n",
       "মুরগী \u001b[1m(\u001b[0mদেশী\u001b[1m)\u001b[0m                      \u001b[1;36m1036\u001b[0m\n",
       "ডিপ্লোমা \u001b[1m(\u001b[0mনিউজিল্যান্ড\u001b[1m)\u001b[0m           \u001b[1;36m1036\u001b[0m\n",
       "ফ্রেশ                             \u001b[1;36m1036\u001b[0m\n",
       "লেখার কা\u001b[1;35mগজ\u001b[0m\u001b[1m(\u001b[0mসাদা\u001b[1m)\u001b[0m                  \u001b[1;36m1036\u001b[0m\n",
       "এম,এস রড \u001b[1m(\u001b[0m৬০ গ্রেড\u001b[1m)\u001b[0m               \u001b[1;36m1036\u001b[0m\n",
       "সয়াবিন তেল \u001b[1m(\u001b[0mলুজ\u001b[1m)\u001b[0m                  \u001b[1;36m1034\u001b[0m\n",
       "আলু \u001b[1m(\u001b[0mমানভেদে\u001b[1m)\u001b[0m                      \u001b[1;36m889\u001b[0m\n",
       "পাম অয়েল \u001b[1m(\u001b[0mসুপার\u001b[1m)\u001b[0m                   \u001b[1;36m833\u001b[0m\n",
       "পিঁয়াজ \u001b[1m(\u001b[0mদেশী\u001b[1m)\u001b[0m                      \u001b[1;36m816\u001b[0m\n",
       "রাইস ব্রান তেল \u001b[1m(\u001b[0mবোতল\u001b[1m)\u001b[0m              \u001b[1;36m761\u001b[0m\n",
       "আদা \u001b[1m(\u001b[0mদেশী\u001b[1m)\u001b[0m                         \u001b[1;36m723\u001b[0m\n",
       "রসু\u001b[1;35mন\u001b[0m\u001b[1m(\u001b[0mদেশী\u001b[1m)\u001b[0m নতুন/পুরাতন\u001b[1m)\u001b[0m            \u001b[1;36m532\u001b[0m\n",
       "রসুন \u001b[1m(\u001b[0mদেশী\u001b[1m)\u001b[0m                        \u001b[1;36m444\u001b[0m\n",
       "আদা \u001b[1m(\u001b[0mদেশী\u001b[1m)\u001b[0m\u001b[1m(\u001b[0mনতুন\u001b[1m)\u001b[0m                   \u001b[1;36m313\u001b[0m\n",
       "পিঁয়াজ \u001b[1m(\u001b[0mনতুন\u001b[1m)\u001b[0m \u001b[1m(\u001b[0mদেশী\u001b[1m)\u001b[0m               \u001b[1;36m220\u001b[0m\n",
       "সুপার পাম অয়েল \u001b[1m(\u001b[0mলুজ\u001b[1m)\u001b[0m               \u001b[1;36m203\u001b[0m\n",
       "আলু \u001b[1m(\u001b[0mনতুন, মানভেদে\u001b[1m)\u001b[0m                \u001b[1;36m147\u001b[0m\n",
       "পাম অলিন \u001b[1m(\u001b[0mবোতল\u001b[1m)\u001b[0m                     \u001b[1;36m74\u001b[0m\n",
       "রসু\u001b[1;35mন\u001b[0m\u001b[1m(\u001b[0mদেশী\u001b[1m)\u001b[0m                          \u001b[1;36m60\u001b[0m\n",
       "Name: count, dtype: int64"
      ]
     },
     "execution_count": 223,
     "metadata": {},
     "output_type": "execute_result"
    }
   ],
   "source": [
    "cnt = df['item'].value_counts()\n",
    "cnt"
   ]
  },
  {
   "cell_type": "code",
   "execution_count": null,
   "id": "820d6dff",
   "metadata": {},
   "outputs": [],
   "source": []
  }
 ],
 "metadata": {
  "kernelspec": {
   "display_name": "commodity_price_forecasting",
   "language": "python",
   "name": "python3"
  },
  "language_info": {
   "codemirror_mode": {
    "name": "ipython",
    "version": 3
   },
   "file_extension": ".py",
   "mimetype": "text/x-python",
   "name": "python",
   "nbconvert_exporter": "python",
   "pygments_lexer": "ipython3",
   "version": "3.11.13"
  }
 },
 "nbformat": 4,
 "nbformat_minor": 5
}
